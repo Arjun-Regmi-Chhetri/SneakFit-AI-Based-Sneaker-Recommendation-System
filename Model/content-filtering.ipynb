{
 "cells": [
  {
   "cell_type": "code",
   "execution_count": 1,
   "id": "93232459-49ac-49a7-afe4-4ce920b527e8",
   "metadata": {},
   "outputs": [],
   "source": [
    "# !pip install pandas pymysql\n",
    "\n",
    "# !pip install gensim\n",
    "\n",
    "# !pip install spacy\n",
    "\n",
    "# %pip install pyarrow\n",
    "\n",
    "# %pip install cryptography\n",
    "\n",
    "\n",
    "# !pip install pyspellchecker"
   ]
  },
  {
   "cell_type": "code",
   "execution_count": 2,
   "id": "25647daf-42cf-4bca-9e16-578c9a7df546",
   "metadata": {},
   "outputs": [
    {
     "name": "stderr",
     "output_type": "stream",
     "text": [
      "[nltk_data] Error loading punkt: <urlopen error [SSL:\n",
      "[nltk_data]     UNEXPECTED_EOF_WHILE_READING] EOF occurred in\n",
      "[nltk_data]     violation of protocol (_ssl.c:1006)>\n",
      "[nltk_data] Error loading wordnet: <urlopen error [SSL:\n",
      "[nltk_data]     UNEXPECTED_EOF_WHILE_READING] EOF occurred in\n",
      "[nltk_data]     violation of protocol (_ssl.c:1006)>\n"
     ]
    }
   ],
   "source": [
    "import pandas as pd\n",
    "import numpy as np\n",
    "\n",
    "from sklearn.preprocessing import OneHotEncoder\n",
    "\n",
    "from sklearn.feature_extraction.text import TfidfVectorizer\n",
    "from sklearn.metrics.pairwise import cosine_similarity\n",
    "\n",
    "\n",
    "import re,string\n",
    "\n",
    "from nltk.tokenize import word_tokenize\n",
    "from nltk.stem import PorterStemmer, WordNetLemmatizer\n",
    "from spellchecker import SpellChecker\n",
    "from nltk.corpus import wordnet\n",
    "\n",
    "# Download necessary NLTK data\n",
    "import nltk\n",
    "nltk.download('punkt')\n",
    "nltk.download('wordnet')\n",
    "\n",
    "\n",
    "from flask import Flask, request, jsonify\n",
    "from flask_cors import CORS"
   ]
  },
  {
   "cell_type": "code",
   "execution_count": null,
   "id": "435d3cd5",
   "metadata": {},
   "outputs": [],
   "source": []
  },
  {
   "cell_type": "code",
   "execution_count": null,
   "id": "02ada617",
   "metadata": {},
   "outputs": [],
   "source": []
  },
  {
   "cell_type": "code",
   "execution_count": 3,
   "id": "c522e0c9-15bd-4dfc-bfc8-d1092a18fc38",
   "metadata": {},
   "outputs": [],
   "source": [
    "import pymysql"
   ]
  },
  {
   "cell_type": "code",
   "execution_count": 4,
   "id": "bed2cbed-139d-4376-968e-592c4bc600df",
   "metadata": {},
   "outputs": [],
   "source": [
    "mysql_host = 'localhost'\n",
    "mysql_port = 3307,\n",
    "mysql_user = 'root'\n",
    "mysql_password = 'root'\n",
    "mysql_db = 'sneakfit'"
   ]
  },
  {
   "cell_type": "code",
   "execution_count": 5,
   "id": "00e5f89b-f36e-46a5-b994-134cc3849e46",
   "metadata": {},
   "outputs": [],
   "source": [
    "conn = pymysql.connect(\n",
    "     host=mysql_host,\n",
    "    port=3307,\n",
    "     user=mysql_user,\n",
    "     password=mysql_password,\n",
    "     db=mysql_db\n",
    ")"
   ]
  },
  {
   "cell_type": "code",
   "execution_count": 6,
   "id": "6d32e85b-2892-49f8-a650-4095152105d0",
   "metadata": {},
   "outputs": [],
   "source": [
    "cursor = conn.cursor()"
   ]
  },
  {
   "cell_type": "code",
   "execution_count": 7,
   "id": "8f9a5db4-790d-4575-b1e2-19d41602079b",
   "metadata": {},
   "outputs": [],
   "source": [
    "query = \"\"\"\n",
    "    SELECT\n",
    "        p.product_id,\n",
    "        p.product_name,\n",
    "        p.product_description,\n",
    "        p.price,\n",
    "        p.discount_price,\n",
    "        p.product_color,\n",
    "        p.product_image,\n",
    "        p.product_category,\n",
    "        p.product_subcategory,\n",
    "        p.product_brand,\n",
    "        ps.size_id\n",
    "    FROM\n",
    "        product p\n",
    "            JOIN\n",
    "        product_sizes ps_rel ON p.product_id = ps_rel.product_id\n",
    "            JOIN\n",
    "        product_size ps ON ps_rel.size_id = ps.size_id\n",
    "    ORDER BY\n",
    "        p.product_id;\n",
    "    \"\"\""
   ]
  },
  {
   "cell_type": "code",
   "execution_count": 8,
   "id": "baccdfa6-2067-41f4-b8a8-b2c10d18fd70",
   "metadata": {},
   "outputs": [
    {
     "data": {
      "text/plain": [
       "130"
      ]
     },
     "execution_count": 8,
     "metadata": {},
     "output_type": "execute_result"
    }
   ],
   "source": [
    "cursor.execute(query)"
   ]
  },
  {
   "cell_type": "code",
   "execution_count": 9,
   "id": "0fb9e4f0-dda9-42b5-b9dc-a5ef9fc6b84c",
   "metadata": {},
   "outputs": [],
   "source": [
    "data = cursor.fetchall()"
   ]
  },
  {
   "cell_type": "code",
   "execution_count": 10,
   "id": "be7194b4-a347-49cc-b9bd-e5e3d775fe6b",
   "metadata": {},
   "outputs": [
    {
     "name": "stdout",
     "output_type": "stream",
     "text": [
      "('PO01', \"Velocity NITRO™ 3 Women's Running Shoes\", \"The PUMA Velocity NITRO™ 3 – with this shoe, we're taking industry-best and bringing it to you. These kicks are all about speed and comfort thanks to advanced NITRO™ technology, offering superior responsiveness and cushioning in a lightweight package that feels like you're running on clouds. Plus, with the heel spoiler, you not only get a sleek look but you'll also benefit from enhanced stability for confident strides. Get ready to up your running game with the Velocity NITRO™ 3. It's not just a shoe; it's a statement\", Decimal('135.00'), Decimal('33.75'), 'Neon Citrus-PUMA Silver-Silver Mist', 'Velocity-NITRO™-3-Women_s-Running-Shoes.png', 'XO3', 'SUB01', 'BO3', 'SO4')\n",
      "('PO01', \"Velocity NITRO™ 3 Women's Running Shoes\", \"The PUMA Velocity NITRO™ 3 – with this shoe, we're taking industry-best and bringing it to you. These kicks are all about speed and comfort thanks to advanced NITRO™ technology, offering superior responsiveness and cushioning in a lightweight package that feels like you're running on clouds. Plus, with the heel spoiler, you not only get a sleek look but you'll also benefit from enhanced stability for confident strides. Get ready to up your running game with the Velocity NITRO™ 3. It's not just a shoe; it's a statement\", Decimal('135.00'), Decimal('33.75'), 'Neon Citrus-PUMA Silver-Silver Mist', 'Velocity-NITRO™-3-Women_s-Running-Shoes.png', 'XO3', 'SUB01', 'BO3', 'SO2')\n",
      "('PO01', \"Velocity NITRO™ 3 Women's Running Shoes\", \"The PUMA Velocity NITRO™ 3 – with this shoe, we're taking industry-best and bringing it to you. These kicks are all about speed and comfort thanks to advanced NITRO™ technology, offering superior responsiveness and cushioning in a lightweight package that feels like you're running on clouds. Plus, with the heel spoiler, you not only get a sleek look but you'll also benefit from enhanced stability for confident strides. Get ready to up your running game with the Velocity NITRO™ 3. It's not just a shoe; it's a statement\", Decimal('135.00'), Decimal('33.75'), 'Neon Citrus-PUMA Silver-Silver Mist', 'Velocity-NITRO™-3-Women_s-Running-Shoes.png', 'XO3', 'SUB01', 'BO3', 'SO3')\n",
      "('PO02', \"LOVE MARATHON ForeverRun NITRO™ Men's Running Shoes\", \"Run proud with the LOVE MARATHON ForeverRun Nitro™. Perfect for all runners and especially beginners, this shoe packs the tried-and-true RUNGUIDE system, designed to keep your feet running in the right position. We've combined a secure engineered mesh upper with an asymmetrical heel counter, to give you softness, comfort and stability. Lace up and start your running adventure with confidence\", Decimal('150.00'), None, 'PUMA Black-PUMA White', 'LOVE-MARATHON-ForeverRun-NITRO™-Men_s-Running-Shoes.png', 'XO2', 'SUB01', 'BO3', 'SO1')\n",
      "('PO02', \"LOVE MARATHON ForeverRun NITRO™ Men's Running Shoes\", \"Run proud with the LOVE MARATHON ForeverRun Nitro™. Perfect for all runners and especially beginners, this shoe packs the tried-and-true RUNGUIDE system, designed to keep your feet running in the right position. We've combined a secure engineered mesh upper with an asymmetrical heel counter, to give you softness, comfort and stability. Lace up and start your running adventure with confidence\", Decimal('150.00'), None, 'PUMA Black-PUMA White', 'LOVE-MARATHON-ForeverRun-NITRO™-Men_s-Running-Shoes.png', 'XO2', 'SUB01', 'BO3', 'SO3')\n",
      "('PO02', \"LOVE MARATHON ForeverRun NITRO™ Men's Running Shoes\", \"Run proud with the LOVE MARATHON ForeverRun Nitro™. Perfect for all runners and especially beginners, this shoe packs the tried-and-true RUNGUIDE system, designed to keep your feet running in the right position. We've combined a secure engineered mesh upper with an asymmetrical heel counter, to give you softness, comfort and stability. Lace up and start your running adventure with confidence\", Decimal('150.00'), None, 'PUMA Black-PUMA White', 'LOVE-MARATHON-ForeverRun-NITRO™-Men_s-Running-Shoes.png', 'XO2', 'SUB01', 'BO3', 'SO2')\n",
      "('PO03', 'Nike Pegasus 41', 'Responsive cushioning in the Pegasus provides an energized ride for everyday road running. Experience lighter-weight energy return with dual Air Zoom units and a ReactX foam midsole. Plus, improved engineered mesh on the upper decreases weight and increases breathability.', Decimal('140.00'), None, 'Pink ', 'pegasus-41-womens-road-running-shoes-tSbZGh.png', 'XO3', 'SUB01', 'BO2', 'SO1')\n",
      "('PO03', 'Nike Pegasus 41', 'Responsive cushioning in the Pegasus provides an energized ride for everyday road running. Experience lighter-weight energy return with dual Air Zoom units and a ReactX foam midsole. Plus, improved engineered mesh on the upper decreases weight and increases breathability.', Decimal('140.00'), None, 'Pink ', 'pegasus-41-womens-road-running-shoes-tSbZGh.png', 'XO3', 'SUB01', 'BO2', 'SO3')\n",
      "('PO03', 'Nike Pegasus 41', 'Responsive cushioning in the Pegasus provides an energized ride for everyday road running. Experience lighter-weight energy return with dual Air Zoom units and a ReactX foam midsole. Plus, improved engineered mesh on the upper decreases weight and increases breathability.', Decimal('140.00'), None, 'Pink ', 'pegasus-41-womens-road-running-shoes-tSbZGh.png', 'XO3', 'SUB01', 'BO2', 'SO2')\n",
      "('PO04', 'Nike Pegasus 41', 'Responsive cushioning in the Pegasus provides an energized ride for everyday road running. Experience lighter-weight energy return with dual Air Zoom units and a ReactX foam midsole. Plus, improved engineered mesh on the upper decreases weight and increases breathability.', Decimal('140.00'), None, 'Night Sky Blue, Dusty Rose Pink, Forest Moss Green', 'pegasus-41-mens-road-running-shoes-7S90QB.png', 'XO2', 'SUB01', 'BO2', 'SO3')\n",
      "('PO04', 'Nike Pegasus 41', 'Responsive cushioning in the Pegasus provides an energized ride for everyday road running. Experience lighter-weight energy return with dual Air Zoom units and a ReactX foam midsole. Plus, improved engineered mesh on the upper decreases weight and increases breathability.', Decimal('140.00'), None, 'Night Sky Blue, Dusty Rose Pink, Forest Moss Green', 'pegasus-41-mens-road-running-shoes-7S90QB.png', 'XO2', 'SUB01', 'BO2', 'SO2')\n",
      "('PO04', 'Nike Pegasus 41', 'Responsive cushioning in the Pegasus provides an energized ride for everyday road running. Experience lighter-weight energy return with dual Air Zoom units and a ReactX foam midsole. Plus, improved engineered mesh on the upper decreases weight and increases breathability.', Decimal('140.00'), None, 'Night Sky Blue, Dusty Rose Pink, Forest Moss Green', 'pegasus-41-mens-road-running-shoes-7S90QB.png', 'XO2', 'SUB01', 'BO2', 'SO4')\n",
      "('PO05', 'GALAXY 6 SHOES', \"It was true then, and it's true now. adidas designs shoes with athletes in mind. These running shoes can be worn anytime, but they're still equipped with some innovative tech. The lightweight mesh upper lets air flow, and the Cloudfoam midsole gives a springy, cushioned feel. A soft sockliner keeps feet feeling supported, no matter how often you put them through a long walk or workout.\", Decimal('60.00'), Decimal('29.00'), 'Flash Aqua, Cloud White, Magic Grey Met', 'Galaxy_6_Shoes_Turquoise_IE1992_01_standard.png', 'XO3', 'SUB01', 'BO1', 'SO1')\n",
      "('PO05', 'GALAXY 6 SHOES', \"It was true then, and it's true now. adidas designs shoes with athletes in mind. These running shoes can be worn anytime, but they're still equipped with some innovative tech. The lightweight mesh upper lets air flow, and the Cloudfoam midsole gives a springy, cushioned feel. A soft sockliner keeps feet feeling supported, no matter how often you put them through a long walk or workout.\", Decimal('60.00'), Decimal('29.00'), 'Flash Aqua, Cloud White, Magic Grey Met', 'Galaxy_6_Shoes_Turquoise_IE1992_01_standard.png', 'XO3', 'SUB01', 'BO1', 'SO3')\n",
      "('PO05', 'GALAXY 6 SHOES', \"It was true then, and it's true now. adidas designs shoes with athletes in mind. These running shoes can be worn anytime, but they're still equipped with some innovative tech. The lightweight mesh upper lets air flow, and the Cloudfoam midsole gives a springy, cushioned feel. A soft sockliner keeps feet feeling supported, no matter how often you put them through a long walk or workout.\", Decimal('60.00'), Decimal('29.00'), 'Flash Aqua, Cloud White, Magic Grey Met', 'Galaxy_6_Shoes_Turquoise_IE1992_01_standard.png', 'XO3', 'SUB01', 'BO1', 'SO2')\n",
      "('PO06', 'CLOUD TEC SHOES', 'Get ready for a run through the park or a walk to the coffee shop in these versatile adidas running shoes. They feel good from the minute you step in, thanks to the cushy midsole. The textile upper feels comfy and breathable, and the rubber outsole gives you plenty of grip for a confident stride.', Decimal('43.00'), Decimal('22.00'), 'Shadow Navy, Stone, Green Spark', 'CLOUD_TEC_SHOES_Blue_IU6260_01_standard.png', 'XO2', 'SUB01', 'BO1', 'SO1')\n",
      "('PO06', 'CLOUD TEC SHOES', 'Get ready for a run through the park or a walk to the coffee shop in these versatile adidas running shoes. They feel good from the minute you step in, thanks to the cushy midsole. The textile upper feels comfy and breathable, and the rubber outsole gives you plenty of grip for a confident stride.', Decimal('43.00'), Decimal('22.00'), 'Shadow Navy, Stone, Green Spark', 'CLOUD_TEC_SHOES_Blue_IU6260_01_standard.png', 'XO2', 'SUB01', 'BO1', 'SO2')\n",
      "('PO06', 'CLOUD TEC SHOES', 'Get ready for a run through the park or a walk to the coffee shop in these versatile adidas running shoes. They feel good from the minute you step in, thanks to the cushy midsole. The textile upper feels comfy and breathable, and the rubber outsole gives you plenty of grip for a confident stride.', Decimal('43.00'), Decimal('22.00'), 'Shadow Navy, Stone, Green Spark', 'CLOUD_TEC_SHOES_Blue_IU6260_01_standard.png', 'XO2', 'SUB01', 'BO1', 'SO4')\n",
      "('PO06', 'CLOUD TEC SHOES', 'Get ready for a run through the park or a walk to the coffee shop in these versatile adidas running shoes. They feel good from the minute you step in, thanks to the cushy midsole. The textile upper feels comfy and breathable, and the rubber outsole gives you plenty of grip for a confident stride.', Decimal('43.00'), Decimal('22.00'), 'Shadow Navy, Stone, Green Spark', 'CLOUD_TEC_SHOES_Blue_IU6260_01_standard.png', 'XO2', 'SUB01', 'BO1', 'SO3')\n",
      "('PO07', 'DROPSET 3 SHOES', 'Whether lifting, pushing or pulling, Dropset 3 trainers provide the stable support needed for strength training. A dual-density midsole keeps feet cushioned through intense reps, while a TPU sidewall locks in the midfoot. adidas HEAT.RDY keeps feet cool even when the workout heats up. Wider than standard fit, these trainers comfortably contain any foot swell from exertion.', Decimal('120.00'), None, 'Lucid Pink, Semi Coabalt Blue, Shadow Fig', 'Dropset_3_Shoes_Pink_JI2074_01_standard.png', 'XO3', 'SUB03', 'BO1', 'SO2')\n",
      "('PO07', 'DROPSET 3 SHOES', 'Whether lifting, pushing or pulling, Dropset 3 trainers provide the stable support needed for strength training. A dual-density midsole keeps feet cushioned through intense reps, while a TPU sidewall locks in the midfoot. adidas HEAT.RDY keeps feet cool even when the workout heats up. Wider than standard fit, these trainers comfortably contain any foot swell from exertion.', Decimal('120.00'), None, 'Lucid Pink, Semi Coabalt Blue, Shadow Fig', 'Dropset_3_Shoes_Pink_JI2074_01_standard.png', 'XO3', 'SUB03', 'BO1', 'SO1')\n",
      "('PO07', 'DROPSET 3 SHOES', 'Whether lifting, pushing or pulling, Dropset 3 trainers provide the stable support needed for strength training. A dual-density midsole keeps feet cushioned through intense reps, while a TPU sidewall locks in the midfoot. adidas HEAT.RDY keeps feet cool even when the workout heats up. Wider than standard fit, these trainers comfortably contain any foot swell from exertion.', Decimal('120.00'), None, 'Lucid Pink, Semi Coabalt Blue, Shadow Fig', 'Dropset_3_Shoes_Pink_JI2074_01_standard.png', 'XO3', 'SUB03', 'BO1', 'SO3')\n",
      "('PO08', 'DROPSET 2 TRAINER', 'The feel of the barbell in your hands, the clang of the plates, the ring of the PR bell. Nothing beats a great lifting day, and these adidas training shoes provide outstanding performance during your Strength Training sessions. The 6 mm midsole drop gives you a flat and stable platform and helps you find proper alignment in all your lifts. The dual-density midsole provides comfort and controlled stability, and a grippy Traxion outsole keeps your footing secure.', Decimal('120.00'), Decimal('90.00'), 'Spark, Semi Spark, Semi Spark Mel', 'Dropset_2_Trainer_Orange_IE8049_01_standard.png', 'XO2', 'SUB03', 'BO1', 'SO4')\n",
      "('PO08', 'DROPSET 2 TRAINER', 'The feel of the barbell in your hands, the clang of the plates, the ring of the PR bell. Nothing beats a great lifting day, and these adidas training shoes provide outstanding performance during your Strength Training sessions. The 6 mm midsole drop gives you a flat and stable platform and helps you find proper alignment in all your lifts. The dual-density midsole provides comfort and controlled stability, and a grippy Traxion outsole keeps your footing secure.', Decimal('120.00'), Decimal('90.00'), 'Spark, Semi Spark, Semi Spark Mel', 'Dropset_2_Trainer_Orange_IE8049_01_standard.png', 'XO2', 'SUB03', 'BO1', 'SO2')\n",
      "('PO08', 'DROPSET 2 TRAINER', 'The feel of the barbell in your hands, the clang of the plates, the ring of the PR bell. Nothing beats a great lifting day, and these adidas training shoes provide outstanding performance during your Strength Training sessions. The 6 mm midsole drop gives you a flat and stable platform and helps you find proper alignment in all your lifts. The dual-density midsole provides comfort and controlled stability, and a grippy Traxion outsole keeps your footing secure.', Decimal('120.00'), Decimal('90.00'), 'Spark, Semi Spark, Semi Spark Mel', 'Dropset_2_Trainer_Orange_IE8049_01_standard.png', 'XO2', 'SUB03', 'BO1', 'SO3')\n",
      "('PO09', 'Nike Free Metcon 6', 'From power lifts to ladders, from grass blades to grainy platforms, from the turf to the track your workout has a certain purpose, a specific focus. The Free Metcon 6 supports every grunt, growl and “got it!” We added even more forefoot flexibility to our most adaptable trainer and reinforced the heel with extra foam. That means more freedom for dynamic movements during plyos and cardio classes, plus the stable base you need for weights.', Decimal('120.00'), None, 'Light Lemon Twist,Cement Grey,Black,Light Lemon Twist', 'free-metcon-6-mens-workout-shoes-Lb34MJ.png', 'XO2', 'SUB03', 'BO2', 'SO4')\n",
      "('PO09', 'Nike Free Metcon 6', 'From power lifts to ladders, from grass blades to grainy platforms, from the turf to the track your workout has a certain purpose, a specific focus. The Free Metcon 6 supports every grunt, growl and “got it!” We added even more forefoot flexibility to our most adaptable trainer and reinforced the heel with extra foam. That means more freedom for dynamic movements during plyos and cardio classes, plus the stable base you need for weights.', Decimal('120.00'), None, 'Light Lemon Twist,Cement Grey,Black,Light Lemon Twist', 'free-metcon-6-mens-workout-shoes-Lb34MJ.png', 'XO2', 'SUB03', 'BO2', 'SO1')\n",
      "('PO09', 'Nike Free Metcon 6', 'From power lifts to ladders, from grass blades to grainy platforms, from the turf to the track your workout has a certain purpose, a specific focus. The Free Metcon 6 supports every grunt, growl and “got it!” We added even more forefoot flexibility to our most adaptable trainer and reinforced the heel with extra foam. That means more freedom for dynamic movements during plyos and cardio classes, plus the stable base you need for weights.', Decimal('120.00'), None, 'Light Lemon Twist,Cement Grey,Black,Light Lemon Twist', 'free-metcon-6-mens-workout-shoes-Lb34MJ.png', 'XO2', 'SUB03', 'BO2', 'SO2')\n",
      "('PO10', 'Nike Motiva', 'The Nike Motiva helps you step through whatever the day brings, at your pace. Its uniquely patterned outsole and exaggerated rocker combine to give you a super-smooth, cushioned and comfortable ride. This means you can walk, jog or run comfortably and come back for your next leisurely stroll confidently. It gives you optimal support for your every move, every day.', Decimal('110.00'), None, 'Sail,White,Violet Mist', 'motiva-womens-walking-shoes-CxVhtB.png', 'XO3', 'SUB03', 'BO2', 'SO2')\n",
      "('PO10', 'Nike Motiva', 'The Nike Motiva helps you step through whatever the day brings, at your pace. Its uniquely patterned outsole and exaggerated rocker combine to give you a super-smooth, cushioned and comfortable ride. This means you can walk, jog or run comfortably and come back for your next leisurely stroll confidently. It gives you optimal support for your every move, every day.', Decimal('110.00'), None, 'Sail,White,Violet Mist', 'motiva-womens-walking-shoes-CxVhtB.png', 'XO3', 'SUB03', 'BO2', 'SO3')\n",
      "('PO11', \"PWR NITRO™ SQD Women's Training Shoes\", \"The PWR Nitro™ Squared is back for another season of Train PUMA. This shoe offers a dual density NITROFOAM™ outsole with a midsole banking to support you during lateral movements. You'll get rebounding and cushioning as you work out, so your feet - and your core - can feel comfortable, stable and supported during high-intensity training. Plus, when you're out and about, this model is a total eye-catcher.\", Decimal('130.00'), Decimal('198.00'), 'Warm White-Grape Mist-Peach Fizz', 'PWR-NITRO™-SQD-Women_s-Training-Shoes.png', 'XO3', 'SUB03', 'BO3', 'SO2')\n",
      "('PO11', \"PWR NITRO™ SQD Women's Training Shoes\", \"The PWR Nitro™ Squared is back for another season of Train PUMA. This shoe offers a dual density NITROFOAM™ outsole with a midsole banking to support you during lateral movements. You'll get rebounding and cushioning as you work out, so your feet - and your core - can feel comfortable, stable and supported during high-intensity training. Plus, when you're out and about, this model is a total eye-catcher.\", Decimal('130.00'), Decimal('198.00'), 'Warm White-Grape Mist-Peach Fizz', 'PWR-NITRO™-SQD-Women_s-Training-Shoes.png', 'XO3', 'SUB03', 'BO3', 'SO3')\n",
      "('PO11', \"PWR NITRO™ SQD Women's Training Shoes\", \"The PWR Nitro™ Squared is back for another season of Train PUMA. This shoe offers a dual density NITROFOAM™ outsole with a midsole banking to support you during lateral movements. You'll get rebounding and cushioning as you work out, so your feet - and your core - can feel comfortable, stable and supported during high-intensity training. Plus, when you're out and about, this model is a total eye-catcher.\", Decimal('130.00'), Decimal('198.00'), 'Warm White-Grape Mist-Peach Fizz', 'PWR-NITRO™-SQD-Women_s-Training-Shoes.png', 'XO3', 'SUB03', 'BO3', 'SO1')\n",
      "('PO12', \"Softride Enzo Evo Men's Running Shoes\", 'A perfect pairing for the perfect pair – our Softride and Enzo franchises combine in this high-energy shoe. The technical cushioning in the footbed and sockliner optimises your comfort as you run, while the bold branding, jewel piece, and TPU caging offer a fresh vibe.', Decimal('75.00'), None, 'White ,Black', 'Softride-Enzo-Evo-Men_s-Running-Shoes.png', 'XO2', 'SUB03', 'BO3', 'SO3')\n",
      "('PO12', \"Softride Enzo Evo Men's Running Shoes\", 'A perfect pairing for the perfect pair – our Softride and Enzo franchises combine in this high-energy shoe. The technical cushioning in the footbed and sockliner optimises your comfort as you run, while the bold branding, jewel piece, and TPU caging offer a fresh vibe.', Decimal('75.00'), None, 'White ,Black', 'Softride-Enzo-Evo-Men_s-Running-Shoes.png', 'XO2', 'SUB03', 'BO3', 'SO4')\n",
      "('PO13', 'CLIMBR STAR', 'Embrace any trail with confidence in the adidas Climber Star hiking and trekking\\\\ shoe. This lightweight champion combines the comfort of a running shoe with the support and traction needed for uneven terrain. A breathable mesh upper keeps your feet cool, while a water-resistant finish sheds light moisture.  The grippy rubber outsole with lugs digs in for sure footing on dirt, rocks, and roots, making it perfect for day hikes, weekend adventures, or conquering your local trails.', Decimal('60.00'), None, 'Oat S24, Core Black, Solar Red, Bronze Strata S23', 'Climbr_Star_Beige_IU6970_01_standard.png', 'XO2', 'SUB12', 'BO1', 'SO4')\n",
      "('PO13', 'CLIMBR STAR', 'Embrace any trail with confidence in the adidas Climber Star hiking and trekking\\\\ shoe. This lightweight champion combines the comfort of a running shoe with the support and traction needed for uneven terrain. A breathable mesh upper keeps your feet cool, while a water-resistant finish sheds light moisture.  The grippy rubber outsole with lugs digs in for sure footing on dirt, rocks, and roots, making it perfect for day hikes, weekend adventures, or conquering your local trails.', Decimal('60.00'), None, 'Oat S24, Core Black, Solar Red, Bronze Strata S23', 'Climbr_Star_Beige_IU6970_01_standard.png', 'XO2', 'SUB12', 'BO1', 'SO3')\n",
      "('PO14', 'BRACE WALK W', 'Conquer your daily walks in comfort and style with the Adidas Brace Walk. This lightweight shoe combines everyday wear ease with features for light hiking adventures. The breathable mesh upper keeps your feet cool on long walks, while the slip-on design lets you ditch the laces and head out the door quickly.  A snug, sock-like fit ensures a comfortable stride, and the durable rubber sole provides reliable traction on uneven paths or light trails, making it a versatile choice for conquering your fitness goals or exploring the outdoors.', Decimal('60.00'), None, 'Silver Dawn, Legen Ink', 'BRACE_WALK_W_Purple_IU9565_01_standard.png', 'XO3', 'SUB12', 'BO1', 'SO2')\n",
      "('PO14', 'BRACE WALK W', 'Conquer your daily walks in comfort and style with the Adidas Brace Walk. This lightweight shoe combines everyday wear ease with features for light hiking adventures. The breathable mesh upper keeps your feet cool on long walks, while the slip-on design lets you ditch the laces and head out the door quickly.  A snug, sock-like fit ensures a comfortable stride, and the durable rubber sole provides reliable traction on uneven paths or light trails, making it a versatile choice for conquering your fitness goals or exploring the outdoors.', Decimal('60.00'), None, 'Silver Dawn, Legen Ink', 'BRACE_WALK_W_Purple_IU9565_01_standard.png', 'XO3', 'SUB12', 'BO1', 'SO3')\n",
      "('PO15', 'Nike Pegasus Trail 5', 'Spread your wings and see what nature brings in the Peg Trail 5. Now equipped with an ultraresponsive ReactX foam midsole, this shoe is a true dual threat for dirt and concrete. This special design is part of our ongoing #IYKYK series. It traverses the Pyrenees mountains via the GR 11, using the coastal lighthouses as your guide from the Mediterranean Sea to the Cantabrian Sea.', Decimal('150.00'), None, 'White, Court Blue, Cedar, Black', 'pegasus-trail-5-mens-trail-running-shoes-0ZrZ4D.png', 'XO2', 'SUB12', 'BO2', 'SO4')\n",
      "('PO15', 'Nike Pegasus Trail 5', 'Spread your wings and see what nature brings in the Peg Trail 5. Now equipped with an ultraresponsive ReactX foam midsole, this shoe is a true dual threat for dirt and concrete. This special design is part of our ongoing #IYKYK series. It traverses the Pyrenees mountains via the GR 11, using the coastal lighthouses as your guide from the Mediterranean Sea to the Cantabrian Sea.', Decimal('150.00'), None, 'White, Court Blue, Cedar, Black', 'pegasus-trail-5-mens-trail-running-shoes-0ZrZ4D.png', 'XO2', 'SUB12', 'BO2', 'SO3')\n",
      "('PO16', 'Nike Pegasus Trail 5', 'Spread your wings and see what nature brings as you chase earthy paths in the Peg Trail 5. Now equipped with an ultra-responsive ReactX foam midsole, this shoe is a true dual threat raring to cross the divide between dirt and drives.', Decimal('150.00'), None, 'Glacier Blue, Daybreak, Sundial, White', 'pegasus-trail-5-womens-trail-running-shoes-NsBQn9.png', 'XO3', 'SUB12', 'BO2', 'SO3')\n",
      "('PO16', 'Nike Pegasus Trail 5', 'Spread your wings and see what nature brings as you chase earthy paths in the Peg Trail 5. Now equipped with an ultra-responsive ReactX foam midsole, this shoe is a true dual threat raring to cross the divide between dirt and drives.', Decimal('150.00'), None, 'Glacier Blue, Daybreak, Sundial, White', 'pegasus-trail-5-womens-trail-running-shoes-NsBQn9.png', 'XO3', 'SUB12', 'BO2', 'SO2')\n",
      "('PO17', \"SEASONS Explore NITRO™ Mid Men's Hiking Shoes\", \"Introducing our first hiking-specific shoe: the Explore NITRO™ Mid. It's designed for all trails and trek, from flat and gravelly to steep and rocky, with a combination of NITROFOAM™ and PROFOAMLITE through the midsole maximising comfort over any terrain. Throw in a PUMAGRIP ATR outsole and a unique collar shape – complete with integrated, heel supporting lacing system – and you have your next trail companion. Get ready to tackle and terrain, no matter the season.\", Decimal('130.00'), None, 'Black, Silver-Chili Powder', \"SEASONS-Explore-NITRO™-Mid-Men's-Hiking-Shoes.png\", 'XO2', 'SUB12', 'BO3', 'SO4')\n",
      "('PO18', \"Explore NITRO™ Mid Women's Hiking Shoes\", \"Introducing our first hiking-specific shoe: the Explore NITRO™ Mid. It's designed for all trails, from flat and gravelly to steep and rocky, with a combination of NITROFOAM™ and PROFOAMLITE through the midsole maximising comfort over any terrain. Throw in a PUMAGRIP ATR outsole and a unique collar shape – complete with integrated, heel supporting lacing system – and you have your next trail companion. Get ready to tackle and terrain, no matter the season.\", Decimal('130.00'), None, 'Black, Silver Ravish', \"Explore-NITRO™-Mid-Women's-Hiking-Shoes.png\", 'XO3', 'SUB12', 'BO3', 'SO3')\n",
      "('PO18', \"Explore NITRO™ Mid Women's Hiking Shoes\", \"Introducing our first hiking-specific shoe: the Explore NITRO™ Mid. It's designed for all trails, from flat and gravelly to steep and rocky, with a combination of NITROFOAM™ and PROFOAMLITE through the midsole maximising comfort over any terrain. Throw in a PUMAGRIP ATR outsole and a unique collar shape – complete with integrated, heel supporting lacing system – and you have your next trail companion. Get ready to tackle and terrain, no matter the season.\", Decimal('130.00'), None, 'Black, Silver Ravish', \"Explore-NITRO™-Mid-Women's-Hiking-Shoes.png\", 'XO3', 'SUB12', 'BO3', 'SO2')\n",
      "('PO19', 'Nike Reina EasyOn', 'Make every walk a breeze with the Reina EasyOn walking shoe.  This comfortable shoe adapts to your foot size throughout the day, making it perfect for wherever your walks take you.  The breathable mesh upper keeps your feet cool, while the laceless design allows for easy on and off.  The shoe also boasts a bendable heel for a comfortable fit,  all while providing reliable traction for your daily walks.', Decimal('140.00'), None, 'Black, Dark Grey, White', 'reina-easyon-womens-shoes-sGlHgb.png', 'XO3', 'SUB01', 'BO2', 'SO3')\n",
      "('PO19', 'Nike Reina EasyOn', 'Make every walk a breeze with the Reina EasyOn walking shoe.  This comfortable shoe adapts to your foot size throughout the day, making it perfect for wherever your walks take you.  The breathable mesh upper keeps your feet cool, while the laceless design allows for easy on and off.  The shoe also boasts a bendable heel for a comfortable fit,  all while providing reliable traction for your daily walks.', Decimal('140.00'), None, 'Black, Dark Grey, White', 'reina-easyon-womens-shoes-sGlHgb.png', 'XO3', 'SUB01', 'BO2', 'SO2')\n",
      "('PO20', 'CLOUDFOAM WALK LOUNGER SHOES', \"Kick back and take it easy in these adidas Cloudfoam Walk Lounger shoes. The slip-on design lets you slide in and out with ease, while plush Cloudfoam and lightweight Bounce cushioning gives you a soft landing with every step. Whether wandering through the city or lounging at home, the relaxed style and everyday comfort of these shoes won't weigh you down.\", Decimal('60.00'), None, 'Grey, Cloud White', 'Cloudfoam_Walk_Lounger_Shoes_Grey_ID4054_01_standard.png', 'XO2', 'SUB12', 'BO1', 'SO3')\n",
      "('PO20', 'CLOUDFOAM WALK LOUNGER SHOES', \"Kick back and take it easy in these adidas Cloudfoam Walk Lounger shoes. The slip-on design lets you slide in and out with ease, while plush Cloudfoam and lightweight Bounce cushioning gives you a soft landing with every step. Whether wandering through the city or lounging at home, the relaxed style and everyday comfort of these shoes won't weigh you down.\", Decimal('60.00'), None, 'Grey, Cloud White', 'Cloudfoam_Walk_Lounger_Shoes_Grey_ID4054_01_standard.png', 'XO2', 'SUB12', 'BO1', 'SO2')\n",
      "('PO20', 'CLOUDFOAM WALK LOUNGER SHOES', \"Kick back and take it easy in these adidas Cloudfoam Walk Lounger shoes. The slip-on design lets you slide in and out with ease, while plush Cloudfoam and lightweight Bounce cushioning gives you a soft landing with every step. Whether wandering through the city or lounging at home, the relaxed style and everyday comfort of these shoes won't weigh you down.\", Decimal('60.00'), None, 'Grey, Cloud White', 'Cloudfoam_Walk_Lounger_Shoes_Grey_ID4054_01_standard.png', 'XO2', 'SUB12', 'BO1', 'SO4')\n",
      "('PO21', 'GAZELLE INDOOR SHOES', \"Once confined to indoor training, the adidas Gazelle shoes have since laced their way into street culture to earn icon status. Slip into the suede upper and experience their timeless style. With a casual, retro look that's stood the test of time, the Gazelle pays homage to adidas' rich history of innovative design. Lace up a piece of the past.\", Decimal('105.00'), None, 'Wonder Clay, Clerk Pink, Gum', 'Gazelle_Indoor_Shoes_Red_IE2946_01_standard.png', 'XO2', 'SUB11', 'BO1', 'SO3')\n",
      "('PO21', 'GAZELLE INDOOR SHOES', \"Once confined to indoor training, the adidas Gazelle shoes have since laced their way into street culture to earn icon status. Slip into the suede upper and experience their timeless style. With a casual, retro look that's stood the test of time, the Gazelle pays homage to adidas' rich history of innovative design. Lace up a piece of the past.\", Decimal('105.00'), None, 'Wonder Clay, Clerk Pink, Gum', 'Gazelle_Indoor_Shoes_Red_IE2946_01_standard.png', 'XO2', 'SUB11', 'BO1', 'SO2')\n",
      "('PO21', 'GAZELLE INDOOR SHOES', \"Once confined to indoor training, the adidas Gazelle shoes have since laced their way into street culture to earn icon status. Slip into the suede upper and experience their timeless style. With a casual, retro look that's stood the test of time, the Gazelle pays homage to adidas' rich history of innovative design. Lace up a piece of the past.\", Decimal('105.00'), None, 'Wonder Clay, Clerk Pink, Gum', 'Gazelle_Indoor_Shoes_Red_IE2946_01_standard.png', 'XO2', 'SUB11', 'BO1', 'SO4')\n",
      "('PO22', 'SAMBA OG SHOES', \"Born on the pitch, the Samba is a timeless icon of street style. This silhouette stays true to its legacy with a tasteful, low-profile, soft leather upper, suede overlays and gum sole, making it a staple in everyone's closet - on and off the pitch.\", Decimal('100.00'), None, 'Cloud White, Core Black, Clear Granite', 'Samba_OG_Shoes_White_B75806_01_standard.png', 'XO2', 'SUB11', 'BO1', 'SO3')\n",
      "('PO22', 'SAMBA OG SHOES', \"Born on the pitch, the Samba is a timeless icon of street style. This silhouette stays true to its legacy with a tasteful, low-profile, soft leather upper, suede overlays and gum sole, making it a staple in everyone's closet - on and off the pitch.\", Decimal('100.00'), None, 'Cloud White, Core Black, Clear Granite', 'Samba_OG_Shoes_White_B75806_01_standard.png', 'XO2', 'SUB11', 'BO1', 'SO2')\n",
      "('PO23', 'Nike Dunk Low Premium Next Nature', \"The '80s basketball icon returns with throwback hoops flair and premium materials. A mix of smooth and cracked leather gives your Dunk a fresh feel. Plus, its padded collar lets you take your game anywhere—in comfort.\", Decimal('120.00'), None, 'Light Bone, Gum Light Brown, Platinum Violet', 'dunk-low-premium-next-nature-womens-shoes-xW59Qz.png', 'XO3', 'SUB11', 'BO2', 'SO3')\n",
      "('PO23', 'Nike Dunk Low Premium Next Nature', \"The '80s basketball icon returns with throwback hoops flair and premium materials. A mix of smooth and cracked leather gives your Dunk a fresh feel. Plus, its padded collar lets you take your game anywhere—in comfort.\", Decimal('120.00'), None, 'Light Bone, Gum Light Brown, Platinum Violet', 'dunk-low-premium-next-nature-womens-shoes-xW59Qz.png', 'XO3', 'SUB11', 'BO2', 'SO2')\n",
      "('PO24', \"Nike Air Force 1 '07\", 'The radiance lives on in the Nike Air Force 1 ’07, the b-ball icon that puts a fresh spin on what you know best: crisp leather, bold colors and the perfect amount of flash to make you shine. A subtle platform gives you just the right amount of height.', Decimal('115.00'), None, 'White', 'air-force-1-07-womens-shoes-b19lqD.png', 'XO3', 'SUB11', 'BO2', 'SO3')\n",
      "('PO24', \"Nike Air Force 1 '07\", 'The radiance lives on in the Nike Air Force 1 ’07, the b-ball icon that puts a fresh spin on what you know best: crisp leather, bold colors and the perfect amount of flash to make you shine. A subtle platform gives you just the right amount of height.', Decimal('115.00'), None, 'White', 'air-force-1-07-womens-shoes-b19lqD.png', 'XO3', 'SUB11', 'BO2', 'SO2')\n",
      "('PO25', 'Air Jordan 4 Retro \"Oxidized Green\"', 'Own a piece of history with the AJ4. This timeless sneaker throws it back to its roots with premium leather and textiles, just like the original 1989 design. Lush colors and metallic accents add a touch of modern flair. With its iconic floating eyestays and mesh details, the AJ4 remains a true classic.', Decimal('215.00'), None, 'White, Netural Grey, Oxidized Green', 'air-jordan-4-retro-oxidized-green-mens-shoes-PNtDJp.png', 'XO2', 'SUB11', 'BO2', 'SO2')\n",
      "('PO25', 'Air Jordan 4 Retro \"Oxidized Green\"', 'Own a piece of history with the AJ4. This timeless sneaker throws it back to its roots with premium leather and textiles, just like the original 1989 design. Lush colors and metallic accents add a touch of modern flair. With its iconic floating eyestays and mesh details, the AJ4 remains a true classic.', Decimal('215.00'), None, 'White, Netural Grey, Oxidized Green', 'air-jordan-4-retro-oxidized-green-mens-shoes-PNtDJp.png', 'XO2', 'SUB11', 'BO2', 'SO3')\n",
      "('PO25', 'Air Jordan 4 Retro \"Oxidized Green\"', 'Own a piece of history with the AJ4. This timeless sneaker throws it back to its roots with premium leather and textiles, just like the original 1989 design. Lush colors and metallic accents add a touch of modern flair. With its iconic floating eyestays and mesh details, the AJ4 remains a true classic.', Decimal('215.00'), None, 'White, Netural Grey, Oxidized Green', 'air-jordan-4-retro-oxidized-green-mens-shoes-PNtDJp.png', 'XO2', 'SUB11', 'BO2', 'SO4')\n",
      "('PO26', 'Nike Dunk Low Retro', \"This iconic silhouette transcends the court, bringing classic basketball heritage to your everyday life. Crafted with meticulous attention to detail, it boasts original design elements that have stood the test of time. The low-cut, padded collar offers a timeless look and a comfortable feel, perfect for channeling a touch of '80s flair into your everyday wardrobe.\", Decimal('115.00'), None, 'Summit White, Platinum Tint, Midnight Navy', 'dunk-low-retro-mens-shoes-76KnBL.png', 'XO2', 'SUB11', 'BO2', 'SO3')\n",
      "('PO26', 'Nike Dunk Low Retro', \"This iconic silhouette transcends the court, bringing classic basketball heritage to your everyday life. Crafted with meticulous attention to detail, it boasts original design elements that have stood the test of time. The low-cut, padded collar offers a timeless look and a comfortable feel, perfect for channeling a touch of '80s flair into your everyday wardrobe.\", Decimal('115.00'), None, 'Summit White, Platinum Tint, Midnight Navy', 'dunk-low-retro-mens-shoes-76KnBL.png', 'XO2', 'SUB11', 'BO2', 'SO2')\n",
      "('PO26', 'Nike Dunk Low Retro', \"This iconic silhouette transcends the court, bringing classic basketball heritage to your everyday life. Crafted with meticulous attention to detail, it boasts original design elements that have stood the test of time. The low-cut, padded collar offers a timeless look and a comfortable feel, perfect for channeling a touch of '80s flair into your everyday wardrobe.\", Decimal('115.00'), None, 'Summit White, Platinum Tint, Midnight Navy', 'dunk-low-retro-mens-shoes-76KnBL.png', 'XO2', 'SUB11', 'BO2', 'SO4')\n",
      "('PO27', \"Mayze Leather Women's Sneakers\", 'Elevate your street style with the Mayze Leather Sneakers. These trendy platform sneakers offer a bold and stylish look that will turn heads wherever you go. With a sleek leather upper and a chunky platform sole, these sneakers provide both fashion and comfort. Step up your shoe game with the Mayze Leather Sneakers and make a statement with every stride.', Decimal('90.00'), None, 'White, Black', \"Mayze-Leather-Women's-Sneakers.png\", 'XO3', 'SUB11', 'BO3', 'SO2')\n",
      "('PO27', \"Mayze Leather Women's Sneakers\", 'Elevate your street style with the Mayze Leather Sneakers. These trendy platform sneakers offer a bold and stylish look that will turn heads wherever you go. With a sleek leather upper and a chunky platform sole, these sneakers provide both fashion and comfort. Step up your shoe game with the Mayze Leather Sneakers and make a statement with every stride.', Decimal('90.00'), None, 'White, Black', \"Mayze-Leather-Women's-Sneakers.png\", 'XO3', 'SUB11', 'BO3', 'SO3')\n",
      "('PO27', \"Mayze Leather Women's Sneakers\", 'Elevate your street style with the Mayze Leather Sneakers. These trendy platform sneakers offer a bold and stylish look that will turn heads wherever you go. With a sleek leather upper and a chunky platform sole, these sneakers provide both fashion and comfort. Step up your shoe game with the Mayze Leather Sneakers and make a statement with every stride.', Decimal('90.00'), None, 'White, Black', \"Mayze-Leather-Women's-Sneakers.png\", 'XO3', 'SUB11', 'BO3', 'SO4')\n",
      "('PO28', \"Palermo Women's Sneakers\", \"A terrace legend from our archives returns: The Palermo. The silhouette debuted back in the early '80s, where it quickly became a staple among the terrace crowds in British soccer stadiums. Now, we’ve brought it back for the fans. Like the original, the Palermo is complete with its signature tag at the upper, a T-toe construction, and, of course, the classic gum sole. This version has a suede base and leather Formstrip with foil-printed PUMA branding.\", Decimal('90.00'), Decimal('74.00'), 'Grape, Mist Peach', \"Palermo-Women's-Sneakers.png\", 'XO3', 'SUB11', 'BO3', 'SO3')\n",
      "('PO28', \"Palermo Women's Sneakers\", \"A terrace legend from our archives returns: The Palermo. The silhouette debuted back in the early '80s, where it quickly became a staple among the terrace crowds in British soccer stadiums. Now, we’ve brought it back for the fans. Like the original, the Palermo is complete with its signature tag at the upper, a T-toe construction, and, of course, the classic gum sole. This version has a suede base and leather Formstrip with foil-printed PUMA branding.\", Decimal('90.00'), Decimal('74.00'), 'Grape, Mist Peach', \"Palermo-Women's-Sneakers.png\", 'XO3', 'SUB11', 'BO3', 'SO2')\n",
      "('PO29', 'Suede XL Sneakers', \"This larger-than-life remix of the iconic Suede Classic has been blazing its own path. The Suede XL draws from PUMA's Y2K-inspired styles while retaining classic Suede DNA. But there's a twist. With its extra padding, extra-large tongue, and extra-thick laces, Suede XL maximizes everything. This sneaker is the perfect mix of understated and elevated.\", Decimal('85.00'), Decimal('61.00'), 'Green, White', 'Suede-XL-Sneakers.png', 'XO2', 'SUB11', 'BO3', 'SO4')\n",
      "('PO29', 'Suede XL Sneakers', \"This larger-than-life remix of the iconic Suede Classic has been blazing its own path. The Suede XL draws from PUMA's Y2K-inspired styles while retaining classic Suede DNA. But there's a twist. With its extra padding, extra-large tongue, and extra-thick laces, Suede XL maximizes everything. This sneaker is the perfect mix of understated and elevated.\", Decimal('85.00'), Decimal('61.00'), 'Green, White', 'Suede-XL-Sneakers.png', 'XO2', 'SUB11', 'BO3', 'SO2')\n",
      "('PO29', 'Suede XL Sneakers', \"This larger-than-life remix of the iconic Suede Classic has been blazing its own path. The Suede XL draws from PUMA's Y2K-inspired styles while retaining classic Suede DNA. But there's a twist. With its extra padding, extra-large tongue, and extra-thick laces, Suede XL maximizes everything. This sneaker is the perfect mix of understated and elevated.\", Decimal('85.00'), Decimal('61.00'), 'Green, White', 'Suede-XL-Sneakers.png', 'XO2', 'SUB11', 'BO3', 'SO3')\n",
      "('PO30', 'Easy Rider Vintage Sneakers', \"The PUMA Easy Rider was born in the late ‘70s, when running made its move from the track to the streets. Today it's back with its classic slim profile and vintage vibes intact. This version, featuring a textile base and suede leather overlays, is sure to become your go-to for bringing a touch of easy, retro-style to everyday looks.  \", Decimal('90.00'), Decimal('68.00'), 'Red, White', 'Easy-Rider-Vintage-Sneakers.png', 'XO2', 'SUB11', 'BO3', 'SO3')\n",
      "('PO30', 'Easy Rider Vintage Sneakers', \"The PUMA Easy Rider was born in the late ‘70s, when running made its move from the track to the streets. Today it's back with its classic slim profile and vintage vibes intact. This version, featuring a textile base and suede leather overlays, is sure to become your go-to for bringing a touch of easy, retro-style to everyday looks.  \", Decimal('90.00'), Decimal('68.00'), 'Red, White', 'Easy-Rider-Vintage-Sneakers.png', 'XO2', 'SUB11', 'BO3', 'SO2')\n",
      "('PO30', 'Easy Rider Vintage Sneakers', \"The PUMA Easy Rider was born in the late ‘70s, when running made its move from the track to the streets. Today it's back with its classic slim profile and vintage vibes intact. This version, featuring a textile base and suede leather overlays, is sure to become your go-to for bringing a touch of easy, retro-style to everyday looks.  \", Decimal('90.00'), Decimal('68.00'), 'Red, White', 'Easy-Rider-Vintage-Sneakers.png', 'XO2', 'SUB11', 'BO3', 'SO4')\n",
      "('PO31', 'Zion 3 M.U.D. \"Light Bone\" SE', 'Sophistication on foot, domination on the court: this Zion III is M.U.D. (Made Uniquely Different). Nubuck leather and suede give you a luxe look. The special-edition forefoot strap lets you customize your containment, while full-length Zoom Air further sets this pair apart. Tonal mud-splatter embroidery adds grit to the super-clean Light Bone upper—a reminder of what mud takes to achieve greatness.', Decimal('150.00'), Decimal('82.00'), 'Light Bone, Sail, Volt', 'zion-3-mud-light-bone-se-basketball-shoes-d6Xq47.png', 'XO3', 'SUB11', 'BO2', 'SO1')\n",
      "('PO31', 'Zion 3 M.U.D. \"Light Bone\" SE', 'Sophistication on foot, domination on the court: this Zion III is M.U.D. (Made Uniquely Different). Nubuck leather and suede give you a luxe look. The special-edition forefoot strap lets you customize your containment, while full-length Zoom Air further sets this pair apart. Tonal mud-splatter embroidery adds grit to the super-clean Light Bone upper—a reminder of what mud takes to achieve greatness.', Decimal('150.00'), Decimal('82.00'), 'Light Bone, Sail, Volt', 'zion-3-mud-light-bone-se-basketball-shoes-d6Xq47.png', 'XO3', 'SUB11', 'BO2', 'SO2')\n",
      "('PO31', 'Zion 3 M.U.D. \"Light Bone\" SE', 'Sophistication on foot, domination on the court: this Zion III is M.U.D. (Made Uniquely Different). Nubuck leather and suede give you a luxe look. The special-edition forefoot strap lets you customize your containment, while full-length Zoom Air further sets this pair apart. Tonal mud-splatter embroidery adds grit to the super-clean Light Bone upper—a reminder of what mud takes to achieve greatness.', Decimal('150.00'), Decimal('82.00'), 'Light Bone, Sail, Volt', 'zion-3-mud-light-bone-se-basketball-shoes-d6Xq47.png', 'XO3', 'SUB11', 'BO2', 'SO3')\n",
      "('PO32', 'F50 LEAGUE TURF BOOTS', 'Free the fast with the adidas F50. Created to unlock the full potential of your acceleration, movement and speed. Locking you in with a stretchy tongue, the Fiberskin upper on these lightweight adidas League football boots shows off a Sprintgrid print on the forefoot. The combination of an EVA midsole and grippy rubber outsole adds comfort and responsiveness on artificial turf courts.', Decimal('79.00'), None, 'Cloud White, Solar Red, Lucid Blue', 'F50_League_Turf_Boots_White_IF1343_01_standard_hover.png', 'XO4', 'SUB08', 'BO1', 'SO3')\n",
      "('PO32', 'F50 LEAGUE TURF BOOTS', 'Free the fast with the adidas F50. Created to unlock the full potential of your acceleration, movement and speed. Locking you in with a stretchy tongue, the Fiberskin upper on these lightweight adidas League football boots shows off a Sprintgrid print on the forefoot. The combination of an EVA midsole and grippy rubber outsole adds comfort and responsiveness on artificial turf courts.', Decimal('79.00'), None, 'Cloud White, Solar Red, Lucid Blue', 'F50_League_Turf_Boots_White_IF1343_01_standard_hover.png', 'XO4', 'SUB08', 'BO1', 'SO2')\n",
      "('PO32', 'F50 LEAGUE TURF BOOTS', 'Free the fast with the adidas F50. Created to unlock the full potential of your acceleration, movement and speed. Locking you in with a stretchy tongue, the Fiberskin upper on these lightweight adidas League football boots shows off a Sprintgrid print on the forefoot. The combination of an EVA midsole and grippy rubber outsole adds comfort and responsiveness on artificial turf courts.', Decimal('79.00'), None, 'Cloud White, Solar Red, Lucid Blue', 'F50_League_Turf_Boots_White_IF1343_01_standard_hover.png', 'XO4', 'SUB08', 'BO1', 'SO4')\n",
      "('PO33', 'F50 LEAGUE MESSI FIRM/MULTI-GROUND BOOTS', \"F50 speed, Messi style. In 2024, Lionel Messi's range of adidas football boots are crafted to match his preferences even more closely. The flexible HybridTouch upper on these F50 League boots includes a synthetic tongue for lightweight comfort. Underneath, a Sprintplate 360 outsole offers propulsion on multiple surfaces.\", Decimal('99.00'), None, 'Gold Metalic, Cloud White, Core Black', 'F50_League_Messi_Firm-Multi-Ground_Boots_Gold_IG9274_HM4.png', 'XO4', 'SUB08', 'BO1', 'SO2')\n",
      "('PO33', 'F50 LEAGUE MESSI FIRM/MULTI-GROUND BOOTS', \"F50 speed, Messi style. In 2024, Lionel Messi's range of adidas football boots are crafted to match his preferences even more closely. The flexible HybridTouch upper on these F50 League boots includes a synthetic tongue for lightweight comfort. Underneath, a Sprintplate 360 outsole offers propulsion on multiple surfaces.\", Decimal('99.00'), None, 'Gold Metalic, Cloud White, Core Black', 'F50_League_Messi_Firm-Multi-Ground_Boots_Gold_IG9274_HM4.png', 'XO4', 'SUB08', 'BO1', 'SO3')\n",
      "('PO33', 'F50 LEAGUE MESSI FIRM/MULTI-GROUND BOOTS', \"F50 speed, Messi style. In 2024, Lionel Messi's range of adidas football boots are crafted to match his preferences even more closely. The flexible HybridTouch upper on these F50 League boots includes a synthetic tongue for lightweight comfort. Underneath, a Sprintplate 360 outsole offers propulsion on multiple surfaces.\", Decimal('99.00'), None, 'Gold Metalic, Cloud White, Core Black', 'F50_League_Messi_Firm-Multi-Ground_Boots_Gold_IG9274_HM4.png', 'XO4', 'SUB08', 'BO1', 'SO4')\n",
      "('PO34', 'Nike Vapor Edge Elite 360 2 NRG', 'Descend deep into the desert, and strut your skills with the whole world watching in this special design.  Dominate on the football pitch (or soccer field for our international friends) with wide stud placements that help you make sharp cuts and leave defenders in the dust. An internal plate creates flexible support, perfect for creating otherworldly separation that turns modest gains into house calls.', Decimal('163.97'), None, 'Metalic Gold, Green Shock, Barely Volt, Black', 'vapor-edge-elite-360-2-nrg-mens-football-cleats-1wvHfl.png', 'XO4', 'SUB08', 'BO2', 'SO2')\n",
      "('PO34', 'Nike Vapor Edge Elite 360 2 NRG', 'Descend deep into the desert, and strut your skills with the whole world watching in this special design.  Dominate on the football pitch (or soccer field for our international friends) with wide stud placements that help you make sharp cuts and leave defenders in the dust. An internal plate creates flexible support, perfect for creating otherworldly separation that turns modest gains into house calls.', Decimal('163.97'), None, 'Metalic Gold, Green Shock, Barely Volt, Black', 'vapor-edge-elite-360-2-nrg-mens-football-cleats-1wvHfl.png', 'XO4', 'SUB08', 'BO2', 'SO3')\n",
      "('PO34', 'Nike Vapor Edge Elite 360 2 NRG', 'Descend deep into the desert, and strut your skills with the whole world watching in this special design.  Dominate on the football pitch (or soccer field for our international friends) with wide stud placements that help you make sharp cuts and leave defenders in the dust. An internal plate creates flexible support, perfect for creating otherworldly separation that turns modest gains into house calls.', Decimal('163.97'), None, 'Metalic Gold, Green Shock, Barely Volt, Black', 'vapor-edge-elite-360-2-nrg-mens-football-cleats-1wvHfl.png', 'XO4', 'SUB08', 'BO2', 'SO4')\n",
      "('PO35', 'Nike Mercurial Superfly 9 Elite', 'Instantly tilt the field in the bold design of the Superfly 9 Elite AG-Pro. We added a Zoom Air unit, made specifically for soccer, and grippy texture up top for exceptional touch, so you can dominate in the waning minutes of a match—when it matters most. Feel the explosive speed as you race around the field, making the critical plays with velocity and pace. Fast is in the Air.', Decimal('285.00'), Decimal('211.97'), 'Black, Hyper Royal, Chrome', 'mercurial-superfly-9-elitehigh-top-soccer-cleats-nNtF4S.png', 'XO4', 'SUB08', 'BO2', 'SO2')\n",
      "('PO35', 'Nike Mercurial Superfly 9 Elite', 'Instantly tilt the field in the bold design of the Superfly 9 Elite AG-Pro. We added a Zoom Air unit, made specifically for soccer, and grippy texture up top for exceptional touch, so you can dominate in the waning minutes of a match—when it matters most. Feel the explosive speed as you race around the field, making the critical plays with velocity and pace. Fast is in the Air.', Decimal('285.00'), Decimal('211.97'), 'Black, Hyper Royal, Chrome', 'mercurial-superfly-9-elitehigh-top-soccer-cleats-nNtF4S.png', 'XO4', 'SUB08', 'BO2', 'SO4')\n",
      "('PO35', 'Nike Mercurial Superfly 9 Elite', 'Instantly tilt the field in the bold design of the Superfly 9 Elite AG-Pro. We added a Zoom Air unit, made specifically for soccer, and grippy texture up top for exceptional touch, so you can dominate in the waning minutes of a match—when it matters most. Feel the explosive speed as you race around the field, making the critical plays with velocity and pace. Fast is in the Air.', Decimal('285.00'), Decimal('211.97'), 'Black, Hyper Royal, Chrome', 'mercurial-superfly-9-elitehigh-top-soccer-cleats-nNtF4S.png', 'XO4', 'SUB08', 'BO2', 'SO3')\n",
      "('PO36', \"FUTURE 7 PRO Firm Ground/Artificial Ground Big Kids' Soccer Cleats\", 'Football Playmakers, Lock into the FUTURE!\\r\\nThe re-engineered upper combines PWRTAPE, stretchy knit, and lightweight mesh for a next-generation adaptive fit, so you can create without constraints throughout the 90 minutes. Dynamic Motion System provides traction and agility for quick cuts and changes of pace. When you wear the FUTURE, you are the FUTURE. Go create.', Decimal('110.00'), None, 'Sunset Glow, Black', 'Remove-bg.ai_1719603828016.png', 'XO4', 'SUB08', 'BO3', 'SO2')\n",
      "('PO36', \"FUTURE 7 PRO Firm Ground/Artificial Ground Big Kids' Soccer Cleats\", 'Football Playmakers, Lock into the FUTURE!\\r\\nThe re-engineered upper combines PWRTAPE, stretchy knit, and lightweight mesh for a next-generation adaptive fit, so you can create without constraints throughout the 90 minutes. Dynamic Motion System provides traction and agility for quick cuts and changes of pace. When you wear the FUTURE, you are the FUTURE. Go create.', Decimal('110.00'), None, 'Sunset Glow, Black', 'Remove-bg.ai_1719603828016.png', 'XO4', 'SUB08', 'BO3', 'SO4')\n",
      "('PO36', \"FUTURE 7 PRO Firm Ground/Artificial Ground Big Kids' Soccer Cleats\", 'Football Playmakers, Lock into the FUTURE!\\r\\nThe re-engineered upper combines PWRTAPE, stretchy knit, and lightweight mesh for a next-generation adaptive fit, so you can create without constraints throughout the 90 minutes. Dynamic Motion System provides traction and agility for quick cuts and changes of pace. When you wear the FUTURE, you are the FUTURE. Go create.', Decimal('110.00'), None, 'Sunset Glow, Black', 'Remove-bg.ai_1719603828016.png', 'XO4', 'SUB08', 'BO3', 'SO3')\n",
      "('PO37', 'CRI RISE V2 SHOES', 'These shoes are a great choice for the amatuer cricketer and fan. The pair features a synthetic upper with mesh for ventilation. The EVA midsole provides lightweight cushioning, while the aggressive rubber outsole ensures maximum traction and agility.', Decimal('42.99'), None, 'Pulse Blue, Collegiate Navy, Semi Impace Orange', 'CRI_RISE_V2_SHOES_Blue_IQ8802_01_standard.png', 'XO4', 'SUB09', 'BO1', 'SO2')\n",
      "('PO37', 'CRI RISE V2 SHOES', 'These shoes are a great choice for the amatuer cricketer and fan. The pair features a synthetic upper with mesh for ventilation. The EVA midsole provides lightweight cushioning, while the aggressive rubber outsole ensures maximum traction and agility.', Decimal('42.99'), None, 'Pulse Blue, Collegiate Navy, Semi Impace Orange', 'CRI_RISE_V2_SHOES_Blue_IQ8802_01_standard.png', 'XO4', 'SUB09', 'BO1', 'SO3')\n",
      "('PO37', 'CRI RISE V2 SHOES', 'These shoes are a great choice for the amatuer cricketer and fan. The pair features a synthetic upper with mesh for ventilation. The EVA midsole provides lightweight cushioning, while the aggressive rubber outsole ensures maximum traction and agility.', Decimal('42.99'), None, 'Pulse Blue, Collegiate Navy, Semi Impace Orange', 'CRI_RISE_V2_SHOES_Blue_IQ8802_01_standard.png', 'XO4', 'SUB09', 'BO1', 'SO4')\n",
      "('PO38', 'CRI HASE SHOES', 'Inspired from the 22YDS series these shoes are a great choice for the amateur cricketer and fan. The pair features a synthetic leather upper with perforated mesh for ventilation and TPU molded stripes for support and style. The injected EVA midsole provides lightweight cushioning, while the aggressive rubber outsole will ensure a firm grip, maximum traction and agility.', Decimal('45.99'), Decimal('32.19'), 'Cloud White, Screaming Orange, Core Black', 'CRI_HASE_SHOES_White_EX3685_01_standard.png', 'XO4', 'SUB09', 'BO1', 'SO2')\n",
      "('PO38', 'CRI HASE SHOES', 'Inspired from the 22YDS series these shoes are a great choice for the amateur cricketer and fan. The pair features a synthetic leather upper with perforated mesh for ventilation and TPU molded stripes for support and style. The injected EVA midsole provides lightweight cushioning, while the aggressive rubber outsole will ensure a firm grip, maximum traction and agility.', Decimal('45.99'), Decimal('32.19'), 'Cloud White, Screaming Orange, Core Black', 'CRI_HASE_SHOES_White_EX3685_01_standard.png', 'XO4', 'SUB09', 'BO1', 'SO1')\n",
      "('PO38', 'CRI HASE SHOES', 'Inspired from the 22YDS series these shoes are a great choice for the amateur cricketer and fan. The pair features a synthetic leather upper with perforated mesh for ventilation and TPU molded stripes for support and style. The injected EVA midsole provides lightweight cushioning, while the aggressive rubber outsole will ensure a firm grip, maximum traction and agility.', Decimal('45.99'), Decimal('32.19'), 'Cloud White, Screaming Orange, Core Black', 'CRI_HASE_SHOES_White_EX3685_01_standard.png', 'XO4', 'SUB09', 'BO1', 'SO3')\n",
      "('PO38', 'CRI HASE SHOES', 'Inspired from the 22YDS series these shoes are a great choice for the amateur cricketer and fan. The pair features a synthetic leather upper with perforated mesh for ventilation and TPU molded stripes for support and style. The injected EVA midsole provides lightweight cushioning, while the aggressive rubber outsole will ensure a firm grip, maximum traction and agility.', Decimal('45.99'), Decimal('32.19'), 'Cloud White, Screaming Orange, Core Black', 'CRI_HASE_SHOES_White_EX3685_01_standard.png', 'XO4', 'SUB09', 'BO1', 'SO4')\n",
      "('PO39', \"Cricket Square Men's Shoes\", \"Engineered to withstand long hours out on the pitch, the Cricket Square Shoes do not disappoint when it comes to comfort and performance. With an ultra-soft & durable upper for superior comfort, a SoftFoam sockliner for cushioning and a multi-studded rubber outsole ensuring exceptional grip, you'll outscore the opposition with ease.\", Decimal('49.90'), Decimal('24.90'), 'Blue Glimmer, Elektro Green, White', 'Cricket-Square-Mens-Shoes.png', 'XO4', 'SUB09', 'BO3', 'SO2')\n",
      "('PO39', \"Cricket Square Men's Shoes\", \"Engineered to withstand long hours out on the pitch, the Cricket Square Shoes do not disappoint when it comes to comfort and performance. With an ultra-soft & durable upper for superior comfort, a SoftFoam sockliner for cushioning and a multi-studded rubber outsole ensuring exceptional grip, you'll outscore the opposition with ease.\", Decimal('49.90'), Decimal('24.90'), 'Blue Glimmer, Elektro Green, White', 'Cricket-Square-Mens-Shoes.png', 'XO4', 'SUB09', 'BO3', 'SO3')\n",
      "('PO39', \"Cricket Square Men's Shoes\", \"Engineered to withstand long hours out on the pitch, the Cricket Square Shoes do not disappoint when it comes to comfort and performance. With an ultra-soft & durable upper for superior comfort, a SoftFoam sockliner for cushioning and a multi-studded rubber outsole ensuring exceptional grip, you'll outscore the opposition with ease.\", Decimal('49.90'), Decimal('24.90'), 'Blue Glimmer, Elektro Green, White', 'Cricket-Square-Mens-Shoes.png', 'XO4', 'SUB09', 'BO3', 'SO4')\n",
      "('PO40', 'KD17 x Bink', \"While Kevin Durant's all-timer status in basketball is already cemented, his hooper soul can't be soothed unless he's on the basketball court, perfecting his craft. Put in the work to be great in the KD17, a shoe designed for basketball gym rats and those who insist on running it back on the court. A forefoot Air Zoom unit enhances your first step. We combined it with Nike Air cushioning to fuel your full-court basketball sprints and defensive stops that can decide games. This special collaboration with Bink celebrates the hit producer's hometown and southeast Virginia upbringing.\", Decimal('160.00'), None, 'Sesame, Rough Green, Monarch, University Gold', 'kd17-x-bink-basketball-shoes-t6HTr6.png', 'XO4', 'SUB10', 'BO2', 'SO2')\n",
      "('PO40', 'KD17 x Bink', \"While Kevin Durant's all-timer status in basketball is already cemented, his hooper soul can't be soothed unless he's on the basketball court, perfecting his craft. Put in the work to be great in the KD17, a shoe designed for basketball gym rats and those who insist on running it back on the court. A forefoot Air Zoom unit enhances your first step. We combined it with Nike Air cushioning to fuel your full-court basketball sprints and defensive stops that can decide games. This special collaboration with Bink celebrates the hit producer's hometown and southeast Virginia upbringing.\", Decimal('160.00'), None, 'Sesame, Rough Green, Monarch, University Gold', 'kd17-x-bink-basketball-shoes-t6HTr6.png', 'XO4', 'SUB10', 'BO2', 'SO3')\n",
      "('PO40', 'KD17 x Bink', \"While Kevin Durant's all-timer status in basketball is already cemented, his hooper soul can't be soothed unless he's on the basketball court, perfecting his craft. Put in the work to be great in the KD17, a shoe designed for basketball gym rats and those who insist on running it back on the court. A forefoot Air Zoom unit enhances your first step. We combined it with Nike Air cushioning to fuel your full-court basketball sprints and defensive stops that can decide games. This special collaboration with Bink celebrates the hit producer's hometown and southeast Virginia upbringing.\", Decimal('160.00'), None, 'Sesame, Rough Green, Monarch, University Gold', 'kd17-x-bink-basketball-shoes-t6HTr6.png', 'XO4', 'SUB10', 'BO2', 'SO4')\n",
      "('PO41', \"STEWIE x CITY OF LOVE Stewie 3 Women's Basketball Shoes\", \"When WNBA All Star Breanna Stewart heads to France this summer, she'll be dominating the basketball game she loves in the Stewie 3 City of Love. This cool blue color-up of Stewart's latest signature shoe features Parisian-inspired floral details and unique design elements chosen by Breanna to represent her family and game-changing basketball career.\\r\\n\\r\\nAn MVP-worthy addition to your sneaker collection, the Stewie 3 City of Love is engineered for performance – featuring a high-abrasion outsole for added grip on the court and a dual-density Profoam+ midsole for targeted cushioning. That means more energy return and stability when driving the lane, crashing the backboard, or taking it coast-to-coast on a global stage in any basketball game.\", Decimal('125.00'), Decimal('94.79'), 'Team Royal Dewdrop', 'STEWIE-x-CITY-OF-LOVE-Stewie-3-Womens-Basketball-Shoes.png', 'XO4', 'SUB10', 'BO3', 'SO3')\n",
      "('PO41', \"STEWIE x CITY OF LOVE Stewie 3 Women's Basketball Shoes\", \"When WNBA All Star Breanna Stewart heads to France this summer, she'll be dominating the basketball game she loves in the Stewie 3 City of Love. This cool blue color-up of Stewart's latest signature shoe features Parisian-inspired floral details and unique design elements chosen by Breanna to represent her family and game-changing basketball career.\\r\\n\\r\\nAn MVP-worthy addition to your sneaker collection, the Stewie 3 City of Love is engineered for performance – featuring a high-abrasion outsole for added grip on the court and a dual-density Profoam+ midsole for targeted cushioning. That means more energy return and stability when driving the lane, crashing the backboard, or taking it coast-to-coast on a global stage in any basketball game.\", Decimal('125.00'), Decimal('94.79'), 'Team Royal Dewdrop', 'STEWIE-x-CITY-OF-LOVE-Stewie-3-Womens-Basketball-Shoes.png', 'XO4', 'SUB10', 'BO3', 'SO2')\n",
      "('PO41', \"STEWIE x CITY OF LOVE Stewie 3 Women's Basketball Shoes\", \"When WNBA All Star Breanna Stewart heads to France this summer, she'll be dominating the basketball game she loves in the Stewie 3 City of Love. This cool blue color-up of Stewart's latest signature shoe features Parisian-inspired floral details and unique design elements chosen by Breanna to represent her family and game-changing basketball career.\\r\\n\\r\\nAn MVP-worthy addition to your sneaker collection, the Stewie 3 City of Love is engineered for performance – featuring a high-abrasion outsole for added grip on the court and a dual-density Profoam+ midsole for targeted cushioning. That means more energy return and stability when driving the lane, crashing the backboard, or taking it coast-to-coast on a global stage in any basketball game.\", Decimal('125.00'), Decimal('94.79'), 'Team Royal Dewdrop', 'STEWIE-x-CITY-OF-LOVE-Stewie-3-Womens-Basketball-Shoes.png', 'XO4', 'SUB10', 'BO3', 'SO4')\n",
      "('PO42', \"WOMEN'S GUCCI RE-WEB SNEAKER\", 'Inspired by the summer spirit and beach clubs on the Italian coast, this item is part of Gucci Lido. The first sneakers envisioned by Sabato De Sarno for the House, the Re-Web sees Gucci’s heritage stripes as a bold detail on a contemporary silhouette. This pair is crafted from the iconic Original GG canvas and white leather. Defined by multiple iconic details, this new sneaker takes center stage with the bold green and red Web tongue and bright orange leather trim.', Decimal('1115.00'), Decimal('900.00'), 'Bold Green', \"MEN'S GUCCI RE-WEB SNEAKER bold green.png\", 'XO3', 'SUB13', 'BO4', 'SO1')\n",
      "('PO42', \"WOMEN'S GUCCI RE-WEB SNEAKER\", 'Inspired by the summer spirit and beach clubs on the Italian coast, this item is part of Gucci Lido. The first sneakers envisioned by Sabato De Sarno for the House, the Re-Web sees Gucci’s heritage stripes as a bold detail on a contemporary silhouette. This pair is crafted from the iconic Original GG canvas and white leather. Defined by multiple iconic details, this new sneaker takes center stage with the bold green and red Web tongue and bright orange leather trim.', Decimal('1115.00'), Decimal('900.00'), 'Bold Green', \"MEN'S GUCCI RE-WEB SNEAKER bold green.png\", 'XO3', 'SUB13', 'BO4', 'SO3')\n",
      "('PO42', \"WOMEN'S GUCCI RE-WEB SNEAKER\", 'Inspired by the summer spirit and beach clubs on the Italian coast, this item is part of Gucci Lido. The first sneakers envisioned by Sabato De Sarno for the House, the Re-Web sees Gucci’s heritage stripes as a bold detail on a contemporary silhouette. This pair is crafted from the iconic Original GG canvas and white leather. Defined by multiple iconic details, this new sneaker takes center stage with the bold green and red Web tongue and bright orange leather trim.', Decimal('1115.00'), Decimal('900.00'), 'Bold Green', \"MEN'S GUCCI RE-WEB SNEAKER bold green.png\", 'XO3', 'SUB13', 'BO4', 'SO2')\n",
      "('PO43', \"MEN'S GUCCI RE-WEB SNEAKER\", 'Inspired by the summer spirit and beach clubs on the Italian coast, this item is part of Gucci Lido. The first sneakers envisioned by Sabato De Sarno for the House, the Re-Web sees Gucci’s heritage stripes as a bold detail on a contemporary silhouette. This pair is crafted from the iconic Original GG canvas and white leather. Defined by multiple iconic details, this new sneaker takes center stage with the bold green and red Web tongue and bright orange leather trim.', Decimal('1115.00'), Decimal('900.00'), 'Red Tongue', \"MEN'S GUCCI RE-WEB SNEAKER red tounge.png\", 'XO2', 'SUB13', 'BO4', 'SO3')\n",
      "('PO43', \"MEN'S GUCCI RE-WEB SNEAKER\", 'Inspired by the summer spirit and beach clubs on the Italian coast, this item is part of Gucci Lido. The first sneakers envisioned by Sabato De Sarno for the House, the Re-Web sees Gucci’s heritage stripes as a bold detail on a contemporary silhouette. This pair is crafted from the iconic Original GG canvas and white leather. Defined by multiple iconic details, this new sneaker takes center stage with the bold green and red Web tongue and bright orange leather trim.', Decimal('1115.00'), Decimal('900.00'), 'Red Tongue', \"MEN'S GUCCI RE-WEB SNEAKER red tounge.png\", 'XO2', 'SUB13', 'BO4', 'SO2')\n",
      "('PO43', \"MEN'S GUCCI RE-WEB SNEAKER\", 'Inspired by the summer spirit and beach clubs on the Italian coast, this item is part of Gucci Lido. The first sneakers envisioned by Sabato De Sarno for the House, the Re-Web sees Gucci’s heritage stripes as a bold detail on a contemporary silhouette. This pair is crafted from the iconic Original GG canvas and white leather. Defined by multiple iconic details, this new sneaker takes center stage with the bold green and red Web tongue and bright orange leather trim.', Decimal('1115.00'), Decimal('900.00'), 'Red Tongue', \"MEN'S GUCCI RE-WEB SNEAKER red tounge.png\", 'XO2', 'SUB13', 'BO4', 'SO4')\n",
      "('PO44', \"MEN'S GUCCI ACE SNEAKER WITH WEB\", \"Inspired by the summer spirit and beach clubs on the Italian coast, this item is part of Gucci Lido. Since its debut, the Ace sneaker has become a mainstay of the House's narrative. A new version of the characteristic low-top silhouette is presented in the latest collection, featuring unique details. A chunkier construction defines the shape, while a metal “ACE” tag shines atop the lace-up closure. Gucci's distinctive Web stripe completes the style.\", Decimal('930.00'), None, 'Green, Red Wave', \"MEN'S GUCCI ACE SNEAKER WITH WEB.png\", 'XO2', 'SUB14', 'BO4', 'SO1')\n",
      "('PO44', \"MEN'S GUCCI ACE SNEAKER WITH WEB\", \"Inspired by the summer spirit and beach clubs on the Italian coast, this item is part of Gucci Lido. Since its debut, the Ace sneaker has become a mainstay of the House's narrative. A new version of the characteristic low-top silhouette is presented in the latest collection, featuring unique details. A chunkier construction defines the shape, while a metal “ACE” tag shines atop the lace-up closure. Gucci's distinctive Web stripe completes the style.\", Decimal('930.00'), None, 'Green, Red Wave', \"MEN'S GUCCI ACE SNEAKER WITH WEB.png\", 'XO2', 'SUB14', 'BO4', 'SO2')\n",
      "('PO44', \"MEN'S GUCCI ACE SNEAKER WITH WEB\", \"Inspired by the summer spirit and beach clubs on the Italian coast, this item is part of Gucci Lido. Since its debut, the Ace sneaker has become a mainstay of the House's narrative. A new version of the characteristic low-top silhouette is presented in the latest collection, featuring unique details. A chunkier construction defines the shape, while a metal “ACE” tag shines atop the lace-up closure. Gucci's distinctive Web stripe completes the style.\", Decimal('930.00'), None, 'Green, Red Wave', \"MEN'S GUCCI ACE SNEAKER WITH WEB.png\", 'XO2', 'SUB14', 'BO4', 'SO3')\n",
      "('PO44', \"MEN'S GUCCI ACE SNEAKER WITH WEB\", \"Inspired by the summer spirit and beach clubs on the Italian coast, this item is part of Gucci Lido. Since its debut, the Ace sneaker has become a mainstay of the House's narrative. A new version of the characteristic low-top silhouette is presented in the latest collection, featuring unique details. A chunkier construction defines the shape, while a metal “ACE” tag shines atop the lace-up closure. Gucci's distinctive Web stripe completes the style.\", Decimal('930.00'), None, 'Green, Red Wave', \"MEN'S GUCCI ACE SNEAKER WITH WEB.png\", 'XO2', 'SUB14', 'BO4', 'SO4')\n",
      "('PO45', \"WOMEN'S GUCCI ACE SNEAKER WITH WEB\", \"Inspired by the summer spirit and beach clubs on the Italian coast, this item is part of Gucci Lido. Since its debut, the Ace sneaker has become a mainstay of the House's narrative. A new version of the characteristic low-top silhouette is presented in the latest collection, featuring unique details. A chunkier construction defines the shape, while a metal “ACE” tag shines atop the lace-up closure. Gucci's distinctive Web stripe completes the style.\", Decimal('930.00'), None, 'Red, Green Wave', \"WOMEN'S GUCCI ACE SNEAKER WITH WEB.png\", 'XO3', 'SUB14', 'BO4', 'SO3')\n",
      "('PO45', \"WOMEN'S GUCCI ACE SNEAKER WITH WEB\", \"Inspired by the summer spirit and beach clubs on the Italian coast, this item is part of Gucci Lido. Since its debut, the Ace sneaker has become a mainstay of the House's narrative. A new version of the characteristic low-top silhouette is presented in the latest collection, featuring unique details. A chunkier construction defines the shape, while a metal “ACE” tag shines atop the lace-up closure. Gucci's distinctive Web stripe completes the style.\", Decimal('930.00'), None, 'Red, Green Wave', \"WOMEN'S GUCCI ACE SNEAKER WITH WEB.png\", 'XO3', 'SUB14', 'BO4', 'SO1')\n",
      "('PO45', \"WOMEN'S GUCCI ACE SNEAKER WITH WEB\", \"Inspired by the summer spirit and beach clubs on the Italian coast, this item is part of Gucci Lido. Since its debut, the Ace sneaker has become a mainstay of the House's narrative. A new version of the characteristic low-top silhouette is presented in the latest collection, featuring unique details. A chunkier construction defines the shape, while a metal “ACE” tag shines atop the lace-up closure. Gucci's distinctive Web stripe completes the style.\", Decimal('930.00'), None, 'Red, Green Wave', \"WOMEN'S GUCCI ACE SNEAKER WITH WEB.png\", 'XO3', 'SUB14', 'BO4', 'SO2')\n",
      "('PO46', 'Nike Air Force 1 High', 'This shoe has everything you love best: crisp overlays, bold hoops style and the perfect amount of flash to let your shoe game shine. The padded, high-cut collar and hook-and-loop closure adds classic comfort while perforations help keep you cool.', Decimal('130.00'), None, 'White, White, White, White', 'air-force-1-high-womens-shoes-vBhHD4.png', 'XO3', 'SUB15', 'BO2', 'SO3')\n",
      "('PO46', 'Nike Air Force 1 High', 'This shoe has everything you love best: crisp overlays, bold hoops style and the perfect amount of flash to let your shoe game shine. The padded, high-cut collar and hook-and-loop closure adds classic comfort while perforations help keep you cool.', Decimal('130.00'), None, 'White, White, White, White', 'air-force-1-high-womens-shoes-vBhHD4.png', 'XO3', 'SUB15', 'BO2', 'SO2')\n",
      "('PO47', 'demo test3', 'dfsadf', Decimal('30.00'), Decimal('18.00'), 'Neon green with ', 'login page.png', 'XO3', 'SUB14', 'BO4', 'SO1')\n",
      "('PO47', 'demo test3', 'dfsadf', Decimal('30.00'), Decimal('18.00'), 'Neon green with ', 'login page.png', 'XO3', 'SUB14', 'BO4', 'SO3')\n",
      "('PO47', 'demo test3', 'dfsadf', Decimal('30.00'), Decimal('18.00'), 'Neon green with ', 'login page.png', 'XO3', 'SUB14', 'BO4', 'SO2')\n",
      "('PO47', 'demo test3', 'dfsadf', Decimal('30.00'), Decimal('18.00'), 'Neon green with ', 'login page.png', 'XO3', 'SUB14', 'BO4', 'SO4')\n"
     ]
    }
   ],
   "source": [
    "for table in data:\n",
    "    print(table)"
   ]
  },
  {
   "cell_type": "code",
   "execution_count": 11,
   "id": "65992be1-cc46-4fcb-896f-f6a8c819466b",
   "metadata": {},
   "outputs": [],
   "source": [
    "col=['productId','productName','productDescription','price','discountPrice','productColor', 'productImage', \n",
    "     'productCategory', 'productSubCategory' , 'productBrand','productSize']"
   ]
  },
  {
   "cell_type": "code",
   "execution_count": 12,
   "id": "e511c1b5-70f6-4280-a370-6886b0ed1c08",
   "metadata": {},
   "outputs": [],
   "source": [
    " query = \"\"\"\n",
    "    WITH size_aggregation AS (\n",
    "        SELECT\n",
    "            ps_rel.product_id,\n",
    "            GROUP_CONCAT(ps.size_name ORDER BY ps.size_id SEPARATOR ', ') AS product_sizes\n",
    "        FROM\n",
    "            product_sizes ps_rel\n",
    "            JOIN product_size ps ON ps_rel.size_id = ps.size_id\n",
    "        GROUP BY\n",
    "            ps_rel.product_id\n",
    "    )\n",
    "    \n",
    "    SELECT\n",
    "        p.product_id AS productId,\n",
    "        p.product_name AS productName,\n",
    "        p.product_description AS productDescription,\n",
    "        p.price AS price,\n",
    "        p.discount_price AS discountPrice,\n",
    "        p.product_color AS productColor,\n",
    "        p.product_image AS productImage,\n",
    "        c.category_name AS productCategory,\n",
    "        t.sub_category_name AS productSubCategory,\n",
    "        b.brand_name AS productBrand,\n",
    "        sa.product_sizes AS productSize\n",
    "    FROM\n",
    "        product p\n",
    "        JOIN product_brand b ON p.product_brand = b.brand_id\n",
    "        JOIN product_category c ON p.product_category = c.category_id\n",
    "        JOIN product_subcategory t ON p.product_subcategory = t.sub_category_id\n",
    "        LEFT JOIN size_aggregation sa ON p.product_id = sa.product_id\n",
    "    ORDER BY\n",
    "        p.product_id;\n",
    "    \"\"\""
   ]
  },
  {
   "cell_type": "code",
   "execution_count": 13,
   "id": "b264099f-6e8c-4763-8103-7fda67ebf867",
   "metadata": {},
   "outputs": [
    {
     "data": {
      "text/plain": [
       "47"
      ]
     },
     "execution_count": 13,
     "metadata": {},
     "output_type": "execute_result"
    }
   ],
   "source": [
    "cursor.execute(query)"
   ]
  },
  {
   "cell_type": "code",
   "execution_count": 14,
   "id": "e47b9e19-33aa-40bc-9ec3-0f90e64dbaa8",
   "metadata": {},
   "outputs": [],
   "source": [
    "data = cursor.fetchall()"
   ]
  },
  {
   "cell_type": "code",
   "execution_count": 15,
   "id": "286db640-f8eb-4dfe-9848-1c0f7d37be32",
   "metadata": {},
   "outputs": [],
   "source": [
    "df = pd.DataFrame(data, columns = col)"
   ]
  },
  {
   "cell_type": "code",
   "execution_count": 16,
   "id": "dad43d33-1a27-4256-8364-4060e37962ae",
   "metadata": {},
   "outputs": [
    {
     "data": {
      "text/html": [
       "<div>\n",
       "<style scoped>\n",
       "    .dataframe tbody tr th:only-of-type {\n",
       "        vertical-align: middle;\n",
       "    }\n",
       "\n",
       "    .dataframe tbody tr th {\n",
       "        vertical-align: top;\n",
       "    }\n",
       "\n",
       "    .dataframe thead th {\n",
       "        text-align: right;\n",
       "    }\n",
       "</style>\n",
       "<table border=\"1\" class=\"dataframe\">\n",
       "  <thead>\n",
       "    <tr style=\"text-align: right;\">\n",
       "      <th></th>\n",
       "      <th>productId</th>\n",
       "      <th>productName</th>\n",
       "      <th>productDescription</th>\n",
       "      <th>price</th>\n",
       "      <th>discountPrice</th>\n",
       "      <th>productColor</th>\n",
       "      <th>productImage</th>\n",
       "      <th>productCategory</th>\n",
       "      <th>productSubCategory</th>\n",
       "      <th>productBrand</th>\n",
       "      <th>productSize</th>\n",
       "    </tr>\n",
       "  </thead>\n",
       "  <tbody>\n",
       "    <tr>\n",
       "      <th>0</th>\n",
       "      <td>PO01</td>\n",
       "      <td>Velocity NITRO™ 3 Women's Running Shoes</td>\n",
       "      <td>The PUMA Velocity NITRO™ 3 – with this shoe, w...</td>\n",
       "      <td>135.00</td>\n",
       "      <td>33.75</td>\n",
       "      <td>Neon Citrus-PUMA Silver-Silver Mist</td>\n",
       "      <td>Velocity-NITRO™-3-Women_s-Running-Shoes.png</td>\n",
       "      <td>Women</td>\n",
       "      <td>Running</td>\n",
       "      <td>Puma</td>\n",
       "      <td>M, L, XL</td>\n",
       "    </tr>\n",
       "    <tr>\n",
       "      <th>1</th>\n",
       "      <td>PO02</td>\n",
       "      <td>LOVE MARATHON ForeverRun NITRO™ Men's Running ...</td>\n",
       "      <td>Run proud with the LOVE MARATHON ForeverRun Ni...</td>\n",
       "      <td>150.00</td>\n",
       "      <td>None</td>\n",
       "      <td>PUMA Black-PUMA White</td>\n",
       "      <td>LOVE-MARATHON-ForeverRun-NITRO™-Men_s-Running-...</td>\n",
       "      <td>Men</td>\n",
       "      <td>Running</td>\n",
       "      <td>Puma</td>\n",
       "      <td>S, M, L</td>\n",
       "    </tr>\n",
       "    <tr>\n",
       "      <th>2</th>\n",
       "      <td>PO03</td>\n",
       "      <td>Nike Pegasus 41</td>\n",
       "      <td>Responsive cushioning in the Pegasus provides ...</td>\n",
       "      <td>140.00</td>\n",
       "      <td>None</td>\n",
       "      <td>Pink</td>\n",
       "      <td>pegasus-41-womens-road-running-shoes-tSbZGh.png</td>\n",
       "      <td>Women</td>\n",
       "      <td>Running</td>\n",
       "      <td>Nike</td>\n",
       "      <td>S, M, L</td>\n",
       "    </tr>\n",
       "    <tr>\n",
       "      <th>3</th>\n",
       "      <td>PO04</td>\n",
       "      <td>Nike Pegasus 41</td>\n",
       "      <td>Responsive cushioning in the Pegasus provides ...</td>\n",
       "      <td>140.00</td>\n",
       "      <td>None</td>\n",
       "      <td>Night Sky Blue, Dusty Rose Pink, Forest Moss G...</td>\n",
       "      <td>pegasus-41-mens-road-running-shoes-7S90QB.png</td>\n",
       "      <td>Men</td>\n",
       "      <td>Running</td>\n",
       "      <td>Nike</td>\n",
       "      <td>M, L, XL</td>\n",
       "    </tr>\n",
       "    <tr>\n",
       "      <th>4</th>\n",
       "      <td>PO05</td>\n",
       "      <td>GALAXY 6 SHOES</td>\n",
       "      <td>It was true then, and it's true now. adidas de...</td>\n",
       "      <td>60.00</td>\n",
       "      <td>29.00</td>\n",
       "      <td>Flash Aqua, Cloud White, Magic Grey Met</td>\n",
       "      <td>Galaxy_6_Shoes_Turquoise_IE1992_01_standard.png</td>\n",
       "      <td>Women</td>\n",
       "      <td>Running</td>\n",
       "      <td>Adidas</td>\n",
       "      <td>S, M, L</td>\n",
       "    </tr>\n",
       "  </tbody>\n",
       "</table>\n",
       "</div>"
      ],
      "text/plain": [
       "  productId                                        productName  \\\n",
       "0      PO01            Velocity NITRO™ 3 Women's Running Shoes   \n",
       "1      PO02  LOVE MARATHON ForeverRun NITRO™ Men's Running ...   \n",
       "2      PO03                                    Nike Pegasus 41   \n",
       "3      PO04                                    Nike Pegasus 41   \n",
       "4      PO05                                     GALAXY 6 SHOES   \n",
       "\n",
       "                                  productDescription   price discountPrice  \\\n",
       "0  The PUMA Velocity NITRO™ 3 – with this shoe, w...  135.00         33.75   \n",
       "1  Run proud with the LOVE MARATHON ForeverRun Ni...  150.00          None   \n",
       "2  Responsive cushioning in the Pegasus provides ...  140.00          None   \n",
       "3  Responsive cushioning in the Pegasus provides ...  140.00          None   \n",
       "4  It was true then, and it's true now. adidas de...   60.00         29.00   \n",
       "\n",
       "                                        productColor  \\\n",
       "0                Neon Citrus-PUMA Silver-Silver Mist   \n",
       "1                              PUMA Black-PUMA White   \n",
       "2                                              Pink    \n",
       "3  Night Sky Blue, Dusty Rose Pink, Forest Moss G...   \n",
       "4            Flash Aqua, Cloud White, Magic Grey Met   \n",
       "\n",
       "                                        productImage productCategory  \\\n",
       "0        Velocity-NITRO™-3-Women_s-Running-Shoes.png           Women   \n",
       "1  LOVE-MARATHON-ForeverRun-NITRO™-Men_s-Running-...             Men   \n",
       "2    pegasus-41-womens-road-running-shoes-tSbZGh.png           Women   \n",
       "3      pegasus-41-mens-road-running-shoes-7S90QB.png             Men   \n",
       "4    Galaxy_6_Shoes_Turquoise_IE1992_01_standard.png           Women   \n",
       "\n",
       "  productSubCategory productBrand productSize  \n",
       "0            Running         Puma    M, L, XL  \n",
       "1            Running         Puma     S, M, L  \n",
       "2            Running         Nike     S, M, L  \n",
       "3            Running         Nike    M, L, XL  \n",
       "4            Running       Adidas     S, M, L  "
      ]
     },
     "execution_count": 16,
     "metadata": {},
     "output_type": "execute_result"
    }
   ],
   "source": [
    "df.head()"
   ]
  },
  {
   "cell_type": "code",
   "execution_count": 17,
   "id": "90145de6-ae3c-4cc8-9b6f-a27f7bbc078d",
   "metadata": {},
   "outputs": [],
   "source": [
    "slected_col = ['productId', 'price', 'productBrand','productCategory', 'productColor', 'productSize', 'productSubCategory']"
   ]
  },
  {
   "cell_type": "code",
   "execution_count": 18,
   "id": "2242626a-0974-49d7-a181-eadb5d39ad9b",
   "metadata": {},
   "outputs": [
    {
     "name": "stdout",
     "output_type": "stream",
     "text": [
      "<class 'pandas.core.frame.DataFrame'>\n",
      "RangeIndex: 47 entries, 0 to 46\n",
      "Data columns (total 11 columns):\n",
      " #   Column              Non-Null Count  Dtype \n",
      "---  ------              --------------  ----- \n",
      " 0   productId           47 non-null     object\n",
      " 1   productName         47 non-null     object\n",
      " 2   productDescription  47 non-null     object\n",
      " 3   price               47 non-null     object\n",
      " 4   discountPrice       16 non-null     object\n",
      " 5   productColor        47 non-null     object\n",
      " 6   productImage        47 non-null     object\n",
      " 7   productCategory     47 non-null     object\n",
      " 8   productSubCategory  47 non-null     object\n",
      " 9   productBrand        47 non-null     object\n",
      " 10  productSize         47 non-null     object\n",
      "dtypes: object(11)\n",
      "memory usage: 4.2+ KB\n"
     ]
    }
   ],
   "source": [
    "df.info()"
   ]
  },
  {
   "cell_type": "code",
   "execution_count": 19,
   "id": "14c5d0b7-b2e3-4e2e-b145-3586920a0b3a",
   "metadata": {},
   "outputs": [
    {
     "data": {
      "text/html": [
       "<div>\n",
       "<style scoped>\n",
       "    .dataframe tbody tr th:only-of-type {\n",
       "        vertical-align: middle;\n",
       "    }\n",
       "\n",
       "    .dataframe tbody tr th {\n",
       "        vertical-align: top;\n",
       "    }\n",
       "\n",
       "    .dataframe thead th {\n",
       "        text-align: right;\n",
       "    }\n",
       "</style>\n",
       "<table border=\"1\" class=\"dataframe\">\n",
       "  <thead>\n",
       "    <tr style=\"text-align: right;\">\n",
       "      <th></th>\n",
       "      <th>productId</th>\n",
       "      <th>productName</th>\n",
       "      <th>productDescription</th>\n",
       "      <th>price</th>\n",
       "      <th>discountPrice</th>\n",
       "      <th>productColor</th>\n",
       "      <th>productImage</th>\n",
       "      <th>productCategory</th>\n",
       "      <th>productSubCategory</th>\n",
       "      <th>productBrand</th>\n",
       "      <th>productSize</th>\n",
       "    </tr>\n",
       "  </thead>\n",
       "  <tbody>\n",
       "    <tr>\n",
       "      <th>count</th>\n",
       "      <td>47</td>\n",
       "      <td>47</td>\n",
       "      <td>47</td>\n",
       "      <td>47</td>\n",
       "      <td>16</td>\n",
       "      <td>47</td>\n",
       "      <td>47</td>\n",
       "      <td>47</td>\n",
       "      <td>47</td>\n",
       "      <td>47</td>\n",
       "      <td>47</td>\n",
       "    </tr>\n",
       "    <tr>\n",
       "      <th>unique</th>\n",
       "      <td>47</td>\n",
       "      <td>45</td>\n",
       "      <td>44</td>\n",
       "      <td>27</td>\n",
       "      <td>15</td>\n",
       "      <td>47</td>\n",
       "      <td>47</td>\n",
       "      <td>3</td>\n",
       "      <td>10</td>\n",
       "      <td>4</td>\n",
       "      <td>7</td>\n",
       "    </tr>\n",
       "    <tr>\n",
       "      <th>top</th>\n",
       "      <td>PO01</td>\n",
       "      <td>Nike Pegasus 41</td>\n",
       "      <td>Responsive cushioning in the Pegasus provides ...</td>\n",
       "      <td>130.00</td>\n",
       "      <td>900.00</td>\n",
       "      <td>Neon Citrus-PUMA Silver-Silver Mist</td>\n",
       "      <td>Velocity-NITRO™-3-Women_s-Running-Shoes.png</td>\n",
       "      <td>Women</td>\n",
       "      <td>Classic</td>\n",
       "      <td>Nike</td>\n",
       "      <td>M, L, XL</td>\n",
       "    </tr>\n",
       "    <tr>\n",
       "      <th>freq</th>\n",
       "      <td>1</td>\n",
       "      <td>2</td>\n",
       "      <td>2</td>\n",
       "      <td>4</td>\n",
       "      <td>2</td>\n",
       "      <td>1</td>\n",
       "      <td>1</td>\n",
       "      <td>19</td>\n",
       "      <td>11</td>\n",
       "      <td>16</td>\n",
       "      <td>20</td>\n",
       "    </tr>\n",
       "  </tbody>\n",
       "</table>\n",
       "</div>"
      ],
      "text/plain": [
       "       productId      productName  \\\n",
       "count         47               47   \n",
       "unique        47               45   \n",
       "top         PO01  Nike Pegasus 41   \n",
       "freq           1                2   \n",
       "\n",
       "                                       productDescription   price  \\\n",
       "count                                                  47      47   \n",
       "unique                                                 44      27   \n",
       "top     Responsive cushioning in the Pegasus provides ...  130.00   \n",
       "freq                                                    2       4   \n",
       "\n",
       "       discountPrice                         productColor  \\\n",
       "count             16                                   47   \n",
       "unique            15                                   47   \n",
       "top           900.00  Neon Citrus-PUMA Silver-Silver Mist   \n",
       "freq               2                                    1   \n",
       "\n",
       "                                       productImage productCategory  \\\n",
       "count                                            47              47   \n",
       "unique                                           47               3   \n",
       "top     Velocity-NITRO™-3-Women_s-Running-Shoes.png           Women   \n",
       "freq                                              1              19   \n",
       "\n",
       "       productSubCategory productBrand productSize  \n",
       "count                  47           47          47  \n",
       "unique                 10            4           7  \n",
       "top               Classic         Nike    M, L, XL  \n",
       "freq                   11           16          20  "
      ]
     },
     "execution_count": 19,
     "metadata": {},
     "output_type": "execute_result"
    }
   ],
   "source": [
    "df.describe()"
   ]
  },
  {
   "cell_type": "code",
   "execution_count": 20,
   "id": "16e40d75-f90b-4605-b0c5-9c9f74cbbeb4",
   "metadata": {},
   "outputs": [],
   "source": [
    "#!pip install flask-cors"
   ]
  },
  {
   "cell_type": "code",
   "execution_count": 21,
   "id": "d20e3314-9e84-4b03-a2fa-0c1246f2d61e",
   "metadata": {},
   "outputs": [],
   "source": [
    "encoder = OneHotEncoder()"
   ]
  },
  {
   "cell_type": "code",
   "execution_count": 22,
   "id": "5d8cbf70-8c45-4af2-9765-c98e1202ba45",
   "metadata": {},
   "outputs": [],
   "source": [
    "encoded_features = encoder.fit_transform(df[['productBrand', 'productColor', 'productSize','productCategory', 'productSubCategory']])\n",
    "    "
   ]
  },
  {
   "cell_type": "code",
   "execution_count": 23,
   "id": "ebdd0d24-71c5-433f-9985-f5a5ee317001",
   "metadata": {},
   "outputs": [],
   "source": [
    "cosine_sim = cosine_similarity(encoded_features)"
   ]
  },
  {
   "cell_type": "code",
   "execution_count": 24,
   "id": "f6f3d145-7d85-47e0-a175-f83cb9f74468",
   "metadata": {},
   "outputs": [],
   "source": [
    "def get_similar_products(product_id, cosine_sim, df):\n",
    "    idx = df.index[df['productId'] == product_id].tolist()[0]\n",
    "    sim_scores = list(enumerate(cosine_sim[idx]))\n",
    "    sim_scores = sorted(sim_scores, key=lambda x: x[1], reverse=True)\n",
    "    sim_scores = sim_scores[1:6]  # Get top 5 similar products\n",
    "    product_indices = [i[0] for i in sim_scores]\n",
    "    return df.iloc[product_indices][['productId','productImage', 'productName','price','discountPrice','productBrand']]"
   ]
  },
  {
   "cell_type": "code",
   "execution_count": 25,
   "id": "5fdec708-a7f2-4d41-9dc7-db4eb45465fe",
   "metadata": {},
   "outputs": [
    {
     "name": "stdout",
     "output_type": "stream",
     "text": [
      "   productId                                       productImage  \\\n",
      "26      PO27                 Mayze-Leather-Women's-Sneakers.png   \n",
      "1       PO02  LOVE-MARATHON-ForeverRun-NITRO™-Men_s-Running-...   \n",
      "2       PO03    pegasus-41-womens-road-running-shoes-tSbZGh.png   \n",
      "3       PO04      pegasus-41-mens-road-running-shoes-7S90QB.png   \n",
      "4       PO05    Galaxy_6_Shoes_Turquoise_IE1992_01_standard.png   \n",
      "\n",
      "                                          productName   price discountPrice  \\\n",
      "26                     Mayze Leather Women's Sneakers   90.00          None   \n",
      "1   LOVE MARATHON ForeverRun NITRO™ Men's Running ...  150.00          None   \n",
      "2                                     Nike Pegasus 41  140.00          None   \n",
      "3                                     Nike Pegasus 41  140.00          None   \n",
      "4                                      GALAXY 6 SHOES   60.00         29.00   \n",
      "\n",
      "   productBrand  \n",
      "26         Puma  \n",
      "1          Puma  \n",
      "2          Nike  \n",
      "3          Nike  \n",
      "4        Adidas  \n"
     ]
    }
   ],
   "source": [
    "similar_products = get_similar_products(\"PO01\", cosine_sim, df)\n",
    "print(similar_products)"
   ]
  },
  {
   "cell_type": "code",
   "execution_count": 26,
   "id": "1e2422b9-d8ed-4aa3-890e-d6bc64618ae8",
   "metadata": {},
   "outputs": [],
   "source": [
    "\n",
    "# Define the selected columns\n",
    "selected_col =  ['productName', 'productDescription','productBrand', 'productColor', 'productSubCategory', 'productCategory']\n",
    "\n",
    "\n",
    "# Concatenate the selected columns into a single string for each row\n",
    "df['combined_text'] = df[selected_col].apply(lambda x: ' '.join(x.fillna('').astype(str)), axis=1)\n",
    "df['combined_text'] = df['combined_text'].str.lower()"
   ]
  },
  {
   "cell_type": "code",
   "execution_count": 27,
   "id": "4f1aaf34",
   "metadata": {},
   "outputs": [],
   "source": [
    "# selected_col_tag = ['productBrand', 'productColor', 'productSubCategory', 'productCategory']\n",
    "# df['tag'] = df[selected_col_tag].apply(lambda x: ' '.join(x.fillna('').astype(str)), axis=1)\n",
    "# df['tag'] = df['tag'].str.lower()\n",
    "\n",
    "\n"
   ]
  },
  {
   "cell_type": "code",
   "execution_count": 28,
   "id": "8b07aca1",
   "metadata": {},
   "outputs": [],
   "source": [
    "encoder = OneHotEncoder()\n",
    "vectorizer = TfidfVectorizer(stop_words='english')\n",
    "tfidf_matrix = vectorizer.fit_transform(df['combined_text'])\n",
    "cosine_similarities = cosine_similarity(tfidf_matrix)"
   ]
  },
  {
   "cell_type": "code",
   "execution_count": 29,
   "id": "1b6de6f3",
   "metadata": {},
   "outputs": [
    {
     "name": "stdout",
     "output_type": "stream",
     "text": [
      "One-Hot Encoded Categories:\n",
      "[[0. 0. 0. ... 0. 0. 0.]\n",
      " [0. 0. 0. ... 0. 0. 0.]\n",
      " [0. 0. 0. ... 0. 0. 0.]\n",
      " ...\n",
      " [0. 0. 0. ... 1. 0. 0.]\n",
      " [0. 0. 0. ... 0. 0. 0.]\n",
      " [0. 0. 0. ... 0. 0. 0.]]\n"
     ]
    }
   ],
   "source": [
    "contents = df['combined_text'].tolist()\n",
    "contents_encoded = encoder.fit_transform([[content] for content in contents])\n",
    "\n",
    "# Print one-hot encoded matrix\n",
    "print(\"One-Hot Encoded Categories:\")\n",
    "print(contents_encoded.toarray())"
   ]
  },
  {
   "cell_type": "code",
   "execution_count": null,
   "id": "c38b1178",
   "metadata": {},
   "outputs": [],
   "source": [
    "\n"
   ]
  },
  {
   "cell_type": "code",
   "execution_count": 30,
   "id": "234c8793",
   "metadata": {},
   "outputs": [],
   "source": [
    "# # Function to recommend products based on query\n",
    "# def recommend_products(query, vectorizer, tfidf_matrix, df):\n",
    "#     # Transform query into TF-IDF vector\n",
    "#     query_vec = vectorizer.transform([query.lower()])\n",
    "    \n",
    "#     # Calculate cosine similarity between query vector and all product vectors\n",
    "#     cosine_similarities = cosine_similarity(query_vec, tfidf_matrix).flatten()\n",
    "    \n",
    "#     # Get indices of products sorted by similarity scores\n",
    "#     sim_scores_indices = list(enumerate(cosine_similarities))\n",
    "#     sim_scores_indices = sorted(sim_scores_indices, key=lambda x: x[1], reverse=True)\n",
    "    \n",
    "#     # Extract indices of top 10 similar products\n",
    "#     top_indices = [i[0] for i in sim_scores_indices[:10]]\n",
    "#     top_scores = [i[1] for i in sim_scores_indices[:10]]\n",
    "    \n",
    "#     # If no product matches the query, return a message\n",
    "#     if top_scores[0] == 0:\n",
    "#         return \"No product found\"\n",
    "    \n",
    "#     # Return recommended product names with similarity scores\n",
    "#     recommendations = df.iloc[top_indices][['productName', 'combined_text', 'tags']].copy()\n",
    "#     recommendations['score'] = top_scores\n",
    "    \n",
    "#     return recommendations"
   ]
  },
  {
   "cell_type": "code",
   "execution_count": 31,
   "id": "ebfe225d",
   "metadata": {},
   "outputs": [
    {
     "name": "stdout",
     "output_type": "stream",
     "text": [
      "Similar words:\n",
      "plimsoll, shoe, betrayer, sneak\n"
     ]
    }
   ],
   "source": [
    "def get_similar_words(word):\n",
    "    similar_words = set()\n",
    "\n",
    "    # Use WordNet to find synonyms and related words\n",
    "    synsets = wordnet.synsets(word)\n",
    "\n",
    "    # Collect synonyms, hypernyms, hyponyms, and related forms\n",
    "    for synset in synsets:\n",
    "        for lemma in synset.lemmas():\n",
    "            similar_words.add(lemma.name())\n",
    "        \n",
    "        for hypernym in synset.hypernyms():\n",
    "            for lemma in hypernym.lemmas():\n",
    "                similar_words.add(lemma.name())\n",
    "        \n",
    "        for hyponym in synset.hyponyms():\n",
    "            for lemma in hyponym.lemmas():\n",
    "                similar_words.add(lemma.name())\n",
    "        \n",
    "        for derivationally_related_form in synset.lemmas()[0].derivationally_related_forms():\n",
    "            similar_words.add(derivationally_related_form.name())\n",
    "\n",
    "    # Exclude the original word from the result\n",
    "    similar_words.discard(word)\n",
    "\n",
    "    return list(similar_words)[:4]\n",
    "\n",
    "# Debugging the get_similar_words function for \"trekking\"\n",
    "similar_words = get_similar_words(\"sneaker\")\n",
    "\n",
    "# Print the results\n",
    "print(\"Similar words:\")\n",
    "print(\", \".join(similar_words))  # Print top 10 similar words\n"
   ]
  },
  {
   "cell_type": "code",
   "execution_count": 32,
   "id": "0884547e",
   "metadata": {},
   "outputs": [
    {
     "name": "stdout",
     "output_type": "stream",
     "text": [
      "walks\n"
     ]
    }
   ],
   "source": [
    "# Initialize the SpellChecker\n",
    "spell = SpellChecker()\n",
    "\n",
    "# Add custom words to the spell checker\n",
    "custom_words = ['nike','adidas','puma']\n",
    "spell.word_frequency.load_words(custom_words)\n",
    "\n",
    "def correct_spell(query):\n",
    "    corrected_query = []\n",
    "    words = query.split()\n",
    "\n",
    "    for word in words:\n",
    "        corrected_query.append(spell.correction(word))\n",
    "\n",
    "    return \" \".join(corrected_query)\n",
    "\n",
    "# Test the correct_spell function\n",
    "print(correct_spell(\"wlaks\")) "
   ]
  },
  {
   "cell_type": "code",
   "execution_count": 33,
   "id": "aeecad83",
   "metadata": {},
   "outputs": [],
   "source": [
    "def recommend_products(query, cosine_similarities, df):\n",
    "\n",
    "    query = correct_spell(query)\n",
    "    \n",
    "    search_query = []\n",
    "    \n",
    "    similar_words = get_similar_words(query)\n",
    "    print(similar_words)\n",
    "    \n",
    "    for index, row in df.iterrows():\n",
    "        content = row['combined_text']\n",
    "        if query in content:\n",
    "            search_query.append(index)\n",
    "    \n",
    "   \n",
    "    results = []\n",
    "    if search_query:\n",
    "       \n",
    "        for index in search_query:\n",
    "            similar_items = list(enumerate(cosine_similarities[df.index.get_loc(index)]))\n",
    "            sorted_similar_items = sorted(similar_items, key=lambda x: x[1], reverse=True)[:10]\n",
    "\n",
    "            for item in sorted_similar_items:\n",
    "                product_id, score = item\n",
    "\n",
    "                # Check if the product_id already exists in results\n",
    "                found = False\n",
    "                for i, (existing_product_id, existing_score) in enumerate(results):\n",
    "                    if existing_product_id == product_id:\n",
    "                        found = True\n",
    "                        # Update the score if the current score is higher\n",
    "                        if score > existing_score:\n",
    "                            results[i] = (product_id, score)\n",
    "                        break\n",
    "\n",
    "                # If not found, add the item to the results\n",
    "                if not found:\n",
    "                    results.append((product_id, score))\n",
    "    \n",
    "        return sorted(results, key=lambda x: x[1], reverse=True)\n",
    "    \n",
    "    # If no exact matches are found, look for partial matches and similar words\n",
    "    else:\n",
    "        for index, row in df.iterrows():\n",
    "            content = row['combined_text']\n",
    "            if any(word in content for word in query.split() + similar_words):\n",
    "                similar_items = list(enumerate(cosine_similarities[df.index.get_loc(index)]))\n",
    "                sorted_items = sorted(similar_items, key=lambda x: x[1], reverse=True)\n",
    "                results.extend(sorted_items)\n",
    "                \n",
    "        result = list(set(results))\n",
    "        return sorted(result, key=lambda x: x[1], reverse=True)[:15]"
   ]
  },
  {
   "cell_type": "code",
   "execution_count": 34,
   "id": "66988eee",
   "metadata": {},
   "outputs": [
    {
     "name": "stdout",
     "output_type": "stream",
     "text": [
      "['trip', 'trekker', 'journeying', 'travel']\n",
      "Recommended Products:\n",
      "Product ID: PO17, Score: 1.00,  Category: Hiking\n",
      "Product ID: PO13, Score: 1.00,  Category: Hiking\n",
      "Product ID: PO18, Score: 0.92,  Category: Hiking\n",
      "Product ID: PO14, Score: 0.26,  Category: Hiking\n",
      "Product ID: PO01, Score: 0.17,  Category: Running\n",
      "Product ID: PO19, Score: 0.16,  Category: Running\n",
      "Product ID: PO02, Score: 0.13,  Category: Running\n",
      "Product ID: PO11, Score: 0.12,  Category: Gym and Training\n",
      "Product ID: PO32, Score: 0.11,  Category: Football\n",
      "Product ID: PO38, Score: 0.10,  Category: Cricket\n",
      "Product ID: PO07, Score: 0.10,  Category: Gym and Training\n",
      "Product ID: PO06, Score: 0.10,  Category: Running\n",
      "Product ID: PO15, Score: 0.09,  Category: Hiking\n",
      "Product ID: PO16, Score: 0.09,  Category: Hiking\n",
      "Product ID: PO20, Score: 0.07,  Category: Hiking\n"
     ]
    }
   ],
   "source": [
    "# Test the recommend_products function\n",
    "query = 'trek'\n",
    "recommended_products = recommend_products(query, cosine_similarities, df)\n",
    "\n",
    "# Print the results\n",
    "print(\"Recommended Products:\")\n",
    "for index, score in recommended_products:\n",
    "    print(f\"Product ID: {df.iloc[index]['productId']}, Score: {score:.2f},  Category: {df.iloc[index]['productSubCategory']}\")"
   ]
  },
  {
   "cell_type": "code",
   "execution_count": 35,
   "id": "a7c04ab3",
   "metadata": {},
   "outputs": [
    {
     "data": {
      "text/plain": [
       "<flask_cors.extension.CORS at 0x2406e847510>"
      ]
     },
     "execution_count": 35,
     "metadata": {},
     "output_type": "execute_result"
    }
   ],
   "source": [
    "app = Flask(__name__)\n",
    "CORS(app, resources={r\"/api/*\": {\"origins\": \"http://localhost:5173\"}})"
   ]
  },
  {
   "cell_type": "code",
   "execution_count": 36,
   "id": "a8489ac4",
   "metadata": {},
   "outputs": [],
   "source": [
    "# Define the search products route\n",
    "@app.route('/api/products/search', methods=['GET'])\n",
    "def search_products():\n",
    "     query = request.args.get('query')\n",
    "     # Call find_similar_products function\n",
    "     recommended_products = recommend_products(query, cosine_similarities, df)\n",
    "        \n",
    "     # Convert the results to a DataFrame to JSON\n",
    "     recommended_products_df = df.iloc[[idx for idx, _ in recommended_products]]\n",
    "     recommended_products_json = recommended_products_df.to_dict(orient='records')\n",
    "        \n",
    "     return jsonify(recommended_products_json)\n",
    "   \n",
    "@app.route('/api/product/<product_id>', methods=['GET'])\n",
    "def api_similar_products(product_id):\n",
    "    similar_products = get_similar_products(product_id, cosine_sim, df)\n",
    "    similar_products_json = similar_products.to_dict(orient='records')\n",
    "    return jsonify(similar_products_json)\n"
   ]
  },
  {
   "cell_type": "code",
   "execution_count": 37,
   "id": "d5f62297",
   "metadata": {},
   "outputs": [
    {
     "name": "stdout",
     "output_type": "stream",
     "text": [
      " * Serving Flask app '__main__'\n",
      " * Debug mode: off\n"
     ]
    },
    {
     "name": "stderr",
     "output_type": "stream",
     "text": [
      "WARNING: This is a development server. Do not use it in a production deployment. Use a production WSGI server instead.\n",
      " * Running on http://localhost:3000\n",
      "Press CTRL+C to quit\n",
      "127.0.0.1 - - [29/Jul/2024 07:28:21] \"GET /api/products/search?query=walk HTTP/1.1\" 200 -\n"
     ]
    },
    {
     "name": "stdout",
     "output_type": "stream",
     "text": [
      "['last_mile', 'flounce', 'skywalk', 'parade']\n"
     ]
    },
    {
     "name": "stderr",
     "output_type": "stream",
     "text": [
      "127.0.0.1 - - [29/Jul/2024 07:28:21] \"GET /api/products/search?query=walk HTTP/1.1\" 200 -\n"
     ]
    },
    {
     "name": "stdout",
     "output_type": "stream",
     "text": [
      "['last_mile', 'flounce', 'skywalk', 'parade']\n"
     ]
    },
    {
     "name": "stderr",
     "output_type": "stream",
     "text": [
      "127.0.0.1 - - [29/Jul/2024 07:28:24] \"GET /api/product/PO05 HTTP/1.1\" 200 -\n",
      "127.0.0.1 - - [29/Jul/2024 07:28:25] \"GET /api/product/PO05 HTTP/1.1\" 200 -\n",
      "127.0.0.1 - - [29/Jul/2024 07:31:25] \"GET /api/product/PO01 HTTP/1.1\" 200 -\n",
      "127.0.0.1 - - [29/Jul/2024 07:31:25] \"GET /api/product/PO01 HTTP/1.1\" 200 -\n",
      "127.0.0.1 - - [29/Jul/2024 07:47:48] \"GET /api/product/PO02 HTTP/1.1\" 200 -\n",
      "127.0.0.1 - - [29/Jul/2024 07:47:48] \"GET /api/product/PO02 HTTP/1.1\" 200 -\n",
      "127.0.0.1 - - [29/Jul/2024 07:50:21] \"GET /api/product/PO35 HTTP/1.1\" 200 -\n",
      "127.0.0.1 - - [29/Jul/2024 07:50:21] \"GET /api/product/PO35 HTTP/1.1\" 200 -\n",
      "127.0.0.1 - - [29/Jul/2024 07:50:30] \"GET /api/product/PO40 HTTP/1.1\" 200 -\n",
      "127.0.0.1 - - [29/Jul/2024 07:50:32] \"GET /api/product/PO25 HTTP/1.1\" 200 -\n",
      "127.0.0.1 - - [29/Jul/2024 07:50:33] \"GET /api/product/PO04 HTTP/1.1\" 200 -\n",
      "127.0.0.1 - - [29/Jul/2024 07:50:34] \"GET /api/product/PO26 HTTP/1.1\" 200 -\n",
      "127.0.0.1 - - [29/Jul/2024 07:50:35] \"GET /api/product/PO04 HTTP/1.1\" 200 -\n",
      "127.0.0.1 - - [29/Jul/2024 07:50:38] \"GET /api/product/PO26 HTTP/1.1\" 200 -\n",
      "127.0.0.1 - - [29/Jul/2024 07:50:57] \"GET /api/product/PO21 HTTP/1.1\" 200 -\n"
     ]
    }
   ],
   "source": [
    "# Run the Flask application in the background\n",
    "if __name__ == '__main__':\n",
    "    app.run('localhost',port=3000, debug=False)"
   ]
  },
  {
   "cell_type": "code",
   "execution_count": null,
   "id": "178dafec",
   "metadata": {},
   "outputs": [],
   "source": []
  },
  {
   "cell_type": "code",
   "execution_count": null,
   "id": "72b3071a",
   "metadata": {},
   "outputs": [],
   "source": []
  },
  {
   "cell_type": "code",
   "execution_count": null,
   "id": "1ed19913",
   "metadata": {},
   "outputs": [],
   "source": [
    "# # def recommend_products(query, cosine_similarities, df):\n",
    "# #     query = correct_spell(query)\n",
    "#       for index in search_query:\n",
    "       \n",
    "#             similar_items = list(enumerate(cosine_similarities[df.index.get_loc(index)]))\n",
    "#             sorted_items = sorted(similar_items, key=lambda x: x[1], reverse=True)[:10]\n",
    "#             results.extend(sorted_items)\n",
    "        \n",
    "#         result = list(set(results))\n",
    "#         return sorted(result, key=lambda x: x[1], reverse=True)\n",
    "    \n",
    "#     # If no exact matches are found, look for partial matches and similar words\n",
    "# #     search_query = []\n",
    "# #     similar_words = get_similar_words(query)\n",
    "# #     print(similar_words)\n",
    "    \n",
    "# #     for index, row in df.iterrows():\n",
    "# #         content = row['combined_text']\n",
    "# #         if query in content:\n",
    "# #             search_query.append(index)\n",
    "    \n",
    "# #     results = []\n",
    "# #     unique_indices = set()\n",
    "\n",
    "# #     if search_query:\n",
    "# #         for index in search_query:\n",
    "# #             similar_items = list(enumerate(cosine_similarities[df.index.get_loc(index)]))\n",
    "# #             sorted_items = sorted(similar_items, key=lambda x: x[1], reverse=True)[:10]\n",
    "# #             for item in sorted_items:\n",
    "# #                 if item[0] not in unique_indices:\n",
    "# #                     unique_indices.add(item[0])\n",
    "# #                     results.append(item)\n",
    "        \n",
    "# #         return sorted(results, key=lambda x: x[1], reverse=True)\n",
    "    \n",
    "# #     # If no exact matches are found, look for partial matches and similar words\n",
    "# #     else:\n",
    "# #         for index, row in df.iterrows():\n",
    "# #             content = row['combined_text']\n",
    "# #             if any(word in content for word in query.split() + similar_words):\n",
    "# #                 similar_items = list(enumerate(cosine_similarities[df.index.get_loc(index)]))\n",
    "# #                 sorted_items = sorted(similar_items, key=lambda x: x[1], reverse=True)[:5]\n",
    "# #                 for item in sorted_items:\n",
    "# #                     if item[0] not in unique_indices:\n",
    "# #                         unique_indices.add(item[0])\n",
    "# #                         results.append(item)\n",
    "\n",
    "# #         return sorted(results, key=lambda x: x[1], reverse=True)\n"
   ]
  },
  {
   "cell_type": "code",
   "execution_count": null,
   "id": "07d3eb57-076d-4b25-a5d0-fae48debb156",
   "metadata": {},
   "outputs": [],
   "source": [
    "# def find_similar_products(query, vectorizer, tfidf_matrix, df, top_n=10):\n",
    "#     ps = PorterStemmer()\n",
    "\n",
    "#     query = clean_text(query)\n",
    "#     query_vector = vectorizer.transform([query])\n",
    "#     similarity_scores = cosine_similarity(query_vector, tfidf_matrix).flatten()\n",
    "#     top_indices = similarity_scores.argsort()[::-1]\n",
    "#     # top_scores = similarity_scores[top_indices]\n",
    "\n",
    "#     if max(top_scores) >= threshold:\n",
    "#         recommended_products = df.iloc[top_indices[:top_n]]\n",
    "#         return recommended_products\n",
    "\n",
    "#     # If no products meet the similarity threshold, find products with similar terms\n",
    "#     query_terms = word_tokenize(query)\n",
    "#     stemmed_query_terms = [ps.stem(term) for term in query_terms]\n",
    "\n",
    "#     # Function to get synonyms from WordNet\n",
    "#     def get_synonyms(word):\n",
    "#         synonyms = set()\n",
    "#         for syn in wordnet.synsets(word):\n",
    "#             for lemma in syn.lemmas():\n",
    "#                 synonyms.add(lemma.name().lower())\n",
    "#         return synonyms\n",
    "\n",
    "#     # Extend query terms with synonyms\n",
    "#     synonym_query_terms = set(stemmed_query_terms)\n",
    "#     for term in query_terms:\n",
    "#         term_synonyms = get_synonyms(term)\n",
    "#         synonym_query_terms.update(ps.stem(syn) for syn in term_synonyms)\n",
    "\n",
    "#     def contains_stemmed_terms(text):\n",
    "#         text_terms = word_tokenize(text.lower())\n",
    "#         stemmed_text_terms = [ps.stem(term) for term in text_terms]\n",
    "#         return any(stemmed_term in stemmed_text_terms for stemmed_term in synonym_query_terms)\n",
    "\n",
    "#     mask = df['combined_text'].apply(contains_stemmed_terms)\n",
    "#     similar_term_products = df[mask]\n",
    "\n",
    "#     if similar_term_products.empty:\n",
    "#         return pd.DataFrame(columns=df.columns)\n",
    "\n",
    "#     return similar_term_products.head(top_n)\n"
   ]
  },
  {
   "cell_type": "code",
   "execution_count": null,
   "id": "e421d20d",
   "metadata": {},
   "outputs": [],
   "source": [
    "\n",
    "# def recommend_products(search_query, df, tfidf_vectorizer, tfidf_matrix, limit=10):\n",
    "#     ps = PorterStemmer()\n",
    "\n",
    "#     query = clean_text(search_query)\n",
    "#     # Vectorize search query\n",
    "#     query_vector = tfidf_vectorizer.transform([query.lower()])\n",
    "\n",
    "#     # Calculate cosine similarities\n",
    "#     similarities = cosine_similarity(query_vector, tfidf_matrix).flatten()\n",
    "\n",
    "#     # Get indices of top similar products\n",
    "#     top_indices = similarities.argsort()[::-1][:limit]\n",
    "#     top_scores = similarities[top_indices]\n",
    "\n",
    "#     if recommend_products:\n",
    "#         recommended_products = df.iloc[top_indices[:limit]]\n",
    "#     else:\n",
    "#         # If no products meet the similarity threshold, find products with similar terms\n",
    "#         query_terms = word_tokenize(query)\n",
    "#         stemmed_query_terms = [ps.stem(term) for term in query_terms]\n",
    "\n",
    "#         # Function to get synonyms from WordNet\n",
    "#         def get_synonyms(word):\n",
    "#             synonyms = set()\n",
    "#             for syn in wordnet.synsets(word):\n",
    "#                 for lemma in syn.lemmas():\n",
    "#                     synonyms.add(lemma.name().lower())\n",
    "#             return synonyms\n",
    "\n",
    "#         # Extend query terms with synonyms\n",
    "#         synonym_query_terms = set(stemmed_query_terms)\n",
    "#         for term in query_terms:\n",
    "#             term_synonyms = get_synonyms(term)\n",
    "#             synonym_query_terms.update(ps.stem(syn) for syn in term_synonyms)\n",
    "\n",
    "#         def contains_stemmed_terms(text):\n",
    "#             text_terms = word_tokenize(text.lower())\n",
    "#             stemmed_text_terms = [ps.stem(term) for term in text_terms]\n",
    "#             return any(stemmed_term in stemmed_text_terms for stemmed_term in synonym_query_terms)\n",
    "\n",
    "#         mask = df['combined_text'].apply(contains_stemmed_terms)\n",
    "#         similar_term_products = df[mask]\n",
    "\n",
    "#         if similar_term_products.empty:\n",
    "#             return pd.DataFrame(columns=df.columns)\n",
    "\n",
    "#         recommended_products = similar_term_products.head(limit)\n",
    "\n",
    "#     return recommended_products\n"
   ]
  },
  {
   "cell_type": "code",
   "execution_count": null,
   "id": "dd0e28ff-8b0a-43ef-a804-e2c37949c6ba",
   "metadata": {},
   "outputs": [],
   "source": [
    "# # Function to find similar products based on a query using Word2Vec embeddings\n",
    "# def find_similar_products(query, model, df, threshold=0.2, top_n=10):\n",
    "#     query_tokens = clean_text(query)\n",
    "#     if not query_tokens:\n",
    "#         return pd.DataFrame(columns=df.columns)  # Return empty DataFrame if query has no tokens\n",
    "\n",
    "#     # Compute average vector for query tokens present in the model's vocabulary\n",
    "#     query_vector = np.mean([model[token] for token in query_tokens if token in model], axis=0)\n",
    "\n",
    "#     similarity_scores = []\n",
    "#     for idx, row in df.iterrows():\n",
    "#         text_tokens = clean_text(row['combined_text'])\n",
    "#         if not text_tokens:\n",
    "#             similarity_scores.append(0.0)  # Append zero similarity if text has no tokens\n",
    "#             continue\n",
    "        \n",
    "#         # Compute average vector for text tokens present in the model's vocabulary\n",
    "#         text_vector = np.mean([model[token] for token in text_tokens if token in model], axis=0)\n",
    "        \n",
    "#         if text_vector is None or text_vector.size == 0:\n",
    "#             similarity_scores.append(0.0)  # Append zero similarity if no tokens are in vocabulary\n",
    "#             continue\n",
    "        \n",
    "#         # Reshape vectors to ensure they are 2D arrays\n",
    "#         query_vector_reshaped = query_vector.reshape(1, -1)\n",
    "#         text_vector_reshaped = text_vector.reshape(1, -1)\n",
    "        \n",
    "#         # Calculate cosine similarity\n",
    "#         similarity = cosine_similarity(query_vector_reshaped, text_vector_reshaped)[0][0]\n",
    "#         similarity_scores.append(similarity)\n",
    "\n",
    "#     df['similarity_score'] = similarity_scores\n",
    "#     recommended_products = df[df['similarity_score'] >= threshold].nlargest(top_n, 'similarity_score')\n",
    "\n",
    "#     if recommended_products.empty:\n",
    "#         return pd.DataFrame(columns=df.columns)  # Return empty DataFrame if no products meet threshold\n",
    "\n",
    "#     return recommended_products[['productId', 'productName', 'productImage', 'similarity_score']]"
   ]
  },
  {
   "cell_type": "code",
   "execution_count": null,
   "id": "8c4ac309",
   "metadata": {},
   "outputs": [],
   "source": [
    "\n",
    "\n",
    "# # TF-IDF Vectorization\n",
    "# tfidf_vectorizer = TfidfVectorizer(stop_words='english')\n",
    "# tfidf_matrix = tfidf_vectorizer.fit_transform(df['combined_text'])"
   ]
  },
  {
   "cell_type": "code",
   "execution_count": null,
   "id": "e2272458",
   "metadata": {},
   "outputs": [],
   "source": [
    "# def recommend_products(search_query, df, tfidf_vectorizer, tfidf_matrix, limit=10):\n",
    "#     # Vectorize search query\n",
    "#     query_vector = tfidf_vectorizer.transform([search_query.lower()])\n",
    "\n",
    "#     # Calculate cosine similarities\n",
    "#     similarities = cosine_similarity(query_vector, tfidf_matrix).flatten()\n",
    "\n",
    "#     # Get indices of top similar products\n",
    "#     top_indices = similarities.argsort()[::-1][:limit]\n",
    "\n",
    "#     # Retrieve recommended products with details\n",
    "#     recommended_products = df.iloc[top_indices]\n",
    "\n",
    "#     return recommended_products\n"
   ]
  },
  {
   "cell_type": "code",
   "execution_count": null,
   "id": "d74f3ee4",
   "metadata": {},
   "outputs": [],
   "source": [
    "# search_query = \"gold\"\n",
    "# recommended_products = recommend_products(search_query, df, tfidf_vectorizer, tfidf_matrix)\n",
    "\n",
    "# # Display recommended products\n",
    "# for index, product in recommended_products.iterrows():\n",
    "#     print(f\"Product ID: {index}\")  # Assuming index is used as product ID\n",
    "#     print(f\"Product Name: {product['productName']}\")\n",
    "#     print(f\"Product Category: {product['productSubCategory']}\")\n",
    "#     print(f\"Product Brand: {product['productBrand']}\")\n",
    "#     print()"
   ]
  },
  {
   "cell_type": "code",
   "execution_count": null,
   "id": "0383a6cd",
   "metadata": {},
   "outputs": [],
   "source": [
    "# titles=df[['productName','tags']]\n",
    "# df.head()"
   ]
  },
  {
   "cell_type": "code",
   "execution_count": null,
   "id": "7981bee1-c3ae-4c2e-9cf8-17b0224ffc96",
   "metadata": {},
   "outputs": [],
   "source": []
  },
  {
   "cell_type": "code",
   "execution_count": null,
   "id": "a7fe1348-33ff-41ec-85b3-1c2949cdef1b",
   "metadata": {},
   "outputs": [],
   "source": []
  },
  {
   "cell_type": "code",
   "execution_count": null,
   "id": "b2e7ac86-a6ee-41c0-8231-b00c9e1c6189",
   "metadata": {
    "scrolled": true
   },
   "outputs": [],
   "source": [
    "\n"
   ]
  },
  {
   "cell_type": "code",
   "execution_count": null,
   "id": "180a320c-c5c9-4ff7-af13-ffd8369c6adb",
   "metadata": {},
   "outputs": [],
   "source": []
  }
 ],
 "metadata": {
  "kernelspec": {
   "display_name": "Python 3 (ipykernel)",
   "language": "python",
   "name": "python3"
  },
  "language_info": {
   "codemirror_mode": {
    "name": "ipython",
    "version": 3
   },
   "file_extension": ".py",
   "mimetype": "text/x-python",
   "name": "python",
   "nbconvert_exporter": "python",
   "pygments_lexer": "ipython3",
   "version": "3.11.5"
  }
 },
 "nbformat": 4,
 "nbformat_minor": 5
}
